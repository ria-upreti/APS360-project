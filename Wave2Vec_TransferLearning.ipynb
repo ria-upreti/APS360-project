{
  "cells": [
    {
      "cell_type": "markdown",
      "metadata": {
        "id": "KibS8wPkZyl5"
      },
      "source": [
        "# Imports and Constants"
      ]
    },
    {
      "cell_type": "markdown",
      "metadata": {
        "id": "lseH8HE5Us81"
      },
      "source": [
        "### Data Loading"
      ]
    },
    {
      "cell_type": "code",
      "execution_count": 1,
      "metadata": {
        "colab": {
          "base_uri": "https://localhost:8080/"
        },
        "collapsed": true,
        "id": "VGyMibX7aLvk",
        "outputId": "79c9211e-45ef-4e75-8d62-a6d5410a73f7"
      },
      "outputs": [
        {
          "output_type": "stream",
          "name": "stdout",
          "text": [
            "Requirement already satisfied: datasets in /usr/local/lib/python3.11/dist-packages (3.5.0)\n",
            "Requirement already satisfied: filelock in /usr/local/lib/python3.11/dist-packages (from datasets) (3.18.0)\n",
            "Requirement already satisfied: numpy>=1.17 in /usr/local/lib/python3.11/dist-packages (from datasets) (2.0.2)\n",
            "Requirement already satisfied: pyarrow>=15.0.0 in /usr/local/lib/python3.11/dist-packages (from datasets) (18.1.0)\n",
            "Requirement already satisfied: dill<0.3.9,>=0.3.0 in /usr/local/lib/python3.11/dist-packages (from datasets) (0.3.8)\n",
            "Requirement already satisfied: pandas in /usr/local/lib/python3.11/dist-packages (from datasets) (2.2.2)\n",
            "Requirement already satisfied: requests>=2.32.2 in /usr/local/lib/python3.11/dist-packages (from datasets) (2.32.3)\n",
            "Requirement already satisfied: tqdm>=4.66.3 in /usr/local/lib/python3.11/dist-packages (from datasets) (4.67.1)\n",
            "Requirement already satisfied: xxhash in /usr/local/lib/python3.11/dist-packages (from datasets) (3.5.0)\n",
            "Requirement already satisfied: multiprocess<0.70.17 in /usr/local/lib/python3.11/dist-packages (from datasets) (0.70.16)\n",
            "Requirement already satisfied: fsspec<=2024.12.0,>=2023.1.0 in /usr/local/lib/python3.11/dist-packages (from fsspec[http]<=2024.12.0,>=2023.1.0->datasets) (2024.12.0)\n",
            "Requirement already satisfied: aiohttp in /usr/local/lib/python3.11/dist-packages (from datasets) (3.11.15)\n",
            "Requirement already satisfied: huggingface-hub>=0.24.0 in /usr/local/lib/python3.11/dist-packages (from datasets) (0.30.1)\n",
            "Requirement already satisfied: packaging in /usr/local/lib/python3.11/dist-packages (from datasets) (24.2)\n",
            "Requirement already satisfied: pyyaml>=5.1 in /usr/local/lib/python3.11/dist-packages (from datasets) (6.0.2)\n",
            "Requirement already satisfied: aiohappyeyeballs>=2.3.0 in /usr/local/lib/python3.11/dist-packages (from aiohttp->datasets) (2.6.1)\n",
            "Requirement already satisfied: aiosignal>=1.1.2 in /usr/local/lib/python3.11/dist-packages (from aiohttp->datasets) (1.3.2)\n",
            "Requirement already satisfied: attrs>=17.3.0 in /usr/local/lib/python3.11/dist-packages (from aiohttp->datasets) (25.3.0)\n",
            "Requirement already satisfied: frozenlist>=1.1.1 in /usr/local/lib/python3.11/dist-packages (from aiohttp->datasets) (1.5.0)\n",
            "Requirement already satisfied: multidict<7.0,>=4.5 in /usr/local/lib/python3.11/dist-packages (from aiohttp->datasets) (6.3.1)\n",
            "Requirement already satisfied: propcache>=0.2.0 in /usr/local/lib/python3.11/dist-packages (from aiohttp->datasets) (0.3.1)\n",
            "Requirement already satisfied: yarl<2.0,>=1.17.0 in /usr/local/lib/python3.11/dist-packages (from aiohttp->datasets) (1.18.3)\n",
            "Requirement already satisfied: typing-extensions>=3.7.4.3 in /usr/local/lib/python3.11/dist-packages (from huggingface-hub>=0.24.0->datasets) (4.13.0)\n",
            "Requirement already satisfied: charset-normalizer<4,>=2 in /usr/local/lib/python3.11/dist-packages (from requests>=2.32.2->datasets) (3.4.1)\n",
            "Requirement already satisfied: idna<4,>=2.5 in /usr/local/lib/python3.11/dist-packages (from requests>=2.32.2->datasets) (3.10)\n",
            "Requirement already satisfied: urllib3<3,>=1.21.1 in /usr/local/lib/python3.11/dist-packages (from requests>=2.32.2->datasets) (2.3.0)\n",
            "Requirement already satisfied: certifi>=2017.4.17 in /usr/local/lib/python3.11/dist-packages (from requests>=2.32.2->datasets) (2025.1.31)\n",
            "Requirement already satisfied: python-dateutil>=2.8.2 in /usr/local/lib/python3.11/dist-packages (from pandas->datasets) (2.8.2)\n",
            "Requirement already satisfied: pytz>=2020.1 in /usr/local/lib/python3.11/dist-packages (from pandas->datasets) (2025.2)\n",
            "Requirement already satisfied: tzdata>=2022.7 in /usr/local/lib/python3.11/dist-packages (from pandas->datasets) (2025.2)\n",
            "Requirement already satisfied: six>=1.5 in /usr/local/lib/python3.11/dist-packages (from python-dateutil>=2.8.2->pandas->datasets) (1.17.0)\n"
          ]
        }
      ],
      "source": [
        "!pip install datasets\n",
        "\n",
        "import torch\n",
        "from torch import nn\n",
        "from datasets import load_dataset\n",
        "from torch.utils.data import DataLoader"
      ]
    },
    {
      "cell_type": "code",
      "execution_count": 2,
      "metadata": {
        "id": "mwcVX2wFWyy8"
      },
      "outputs": [],
      "source": [
        "LANGUAGES = [\"en\", \"de\", \"nl\", \"sv-SE\", \"da\"]\n",
        "DEVICE = \"cuda\" if torch.cuda.is_available() else \"cpu\"\n",
        "LEARNING_RATE = 0.001\n",
        "NUM_EPOCHS = 10\n",
        "BATCH_SIZE = 1\n",
        "TRAIN_BATCH = 1200\n",
        "VAL_BATCH = 300\n",
        "SAMPLE_RATE = 16000\n",
        "\n",
        "# Constants related to the MFCC processing\n",
        "# the number of samples per fft\n",
        "N_FFT = 2048\n",
        "# the amount of transform to shift\n",
        "HOP_LENGTH = 512\n",
        "# The number of coefficient we extract\n",
        "N_MFCC = 13"
      ]
    },
    {
      "cell_type": "markdown",
      "metadata": {
        "id": "fVqohc6HSxV6"
      },
      "source": [
        "### Data Processing"
      ]
    },
    {
      "cell_type": "code",
      "execution_count": 3,
      "metadata": {
        "id": "XpIwtX0RS15s"
      },
      "outputs": [],
      "source": [
        "import pandas as pd\n",
        "import numpy as np\n",
        "import matplotlib.pylab as plt\n",
        "import seaborn as sns\n",
        "\n",
        "from glob import glob # list out files in directory -> reading wave files\n",
        "\n",
        "import librosa\n",
        "import librosa.display\n",
        "import IPython.display as ipd # play files\n",
        "\n",
        "from itertools import cycle # colours and gimiks"
      ]
    },
    {
      "cell_type": "markdown",
      "metadata": {
        "id": "T2rbl8V_TChV"
      },
      "source": [
        "### Training"
      ]
    },
    {
      "cell_type": "code",
      "execution_count": 4,
      "metadata": {
        "id": "9-1u9L9mTB-a"
      },
      "outputs": [],
      "source": [
        "import numpy as np\n",
        "import time\n",
        "import torch\n",
        "import torch.nn as nn\n",
        "import torch.nn.functional as F\n",
        "import torch.optim as optim\n",
        "import torchvision\n",
        "from torch.utils.data.sampler import SubsetRandomSampler\n",
        "import torchvision.transforms as transforms"
      ]
    },
    {
      "cell_type": "markdown",
      "metadata": {
        "id": "aiRpXsylZoC4"
      },
      "source": [
        "# Download Dataset and Mount Drive"
      ]
    },
    {
      "cell_type": "code",
      "execution_count": 5,
      "metadata": {
        "colab": {
          "base_uri": "https://localhost:8080/"
        },
        "collapsed": true,
        "id": "YJ5UjvQhyABD",
        "outputId": "62dfa121-e9e3-4e26-84c7-1ca506eeb23b"
      },
      "outputs": [
        {
          "output_type": "stream",
          "name": "stdout",
          "text": [
            "Drive already mounted at /content/drive; to attempt to forcibly remount, call drive.mount(\"/content/drive\", force_remount=True).\n"
          ]
        }
      ],
      "source": [
        "from google.colab import drive\n",
        "import os\n",
        "drive.mount('/content/drive')"
      ]
    },
    {
      "cell_type": "code",
      "execution_count": 6,
      "metadata": {
        "colab": {
          "base_uri": "https://localhost:8080/"
        },
        "collapsed": true,
        "id": "pLqETfMgs6vk",
        "outputId": "54ec3968-e734-4ece-bc94-3896d6d35a9a"
      },
      "outputs": [
        {
          "output_type": "stream",
          "name": "stdout",
          "text": [
            "\n",
            "    _|    _|  _|    _|    _|_|_|    _|_|_|  _|_|_|  _|      _|    _|_|_|      _|_|_|_|    _|_|      _|_|_|  _|_|_|_|\n",
            "    _|    _|  _|    _|  _|        _|          _|    _|_|    _|  _|            _|        _|    _|  _|        _|\n",
            "    _|_|_|_|  _|    _|  _|  _|_|  _|  _|_|    _|    _|  _|  _|  _|  _|_|      _|_|_|    _|_|_|_|  _|        _|_|_|\n",
            "    _|    _|  _|    _|  _|    _|  _|    _|    _|    _|    _|_|  _|    _|      _|        _|    _|  _|        _|\n",
            "    _|    _|    _|_|      _|_|_|    _|_|_|  _|_|_|  _|      _|    _|_|_|      _|        _|    _|    _|_|_|  _|_|_|_|\n",
            "\n",
            "    A token is already saved on your machine. Run `huggingface-cli whoami` to get more information or `huggingface-cli logout` if you want to log out.\n",
            "    Setting a new token will erase the existing one.\n",
            "    To log in, `huggingface_hub` requires a token generated from https://huggingface.co/settings/tokens .\n",
            "Enter your token (input will not be visible): \n",
            "Add token as git credential? (Y/n) y\n",
            "Token is valid (permission: fineGrained).\n",
            "The token `Sneed` has been saved to /root/.cache/huggingface/stored_tokens\n",
            "\u001b[1m\u001b[31mCannot authenticate through git-credential as no helper is defined on your machine.\n",
            "You might have to re-authenticate when pushing to the Hugging Face Hub.\n",
            "Run the following command in your terminal in case you want to set the 'store' credential helper as default.\n",
            "\n",
            "git config --global credential.helper store\n",
            "\n",
            "Read https://git-scm.com/book/en/v2/Git-Tools-Credential-Storage for more details.\u001b[0m\n",
            "Token has not been saved to git credential helper.\n",
            "Your token has been saved to /root/.cache/huggingface/token\n",
            "Login successful.\n",
            "The current active token is: `Sneed`\n"
          ]
        }
      ],
      "source": [
        "# linking hugging face account\n",
        "!huggingface-cli login"
      ]
    },
    {
      "cell_type": "markdown",
      "metadata": {
        "id": "WyN_HCNOK7sE"
      },
      "source": [
        "# Don't load the CNN"
      ]
    },
    {
      "cell_type": "code",
      "execution_count": 7,
      "metadata": {
        "id": "tWfyi7JtyDI9"
      },
      "outputs": [],
      "source": [
        "def save_result(model_code, train_err, train_loss, val_err, val_loss):\n",
        "  save_dir = \"/content/drive/My Drive/training_results\"\n",
        "  os.makedirs(save_dir, exist_ok=True)\n",
        "  model_path = os.path.join(save_dir, model_code)\n",
        "  np.savetxt(\"{}_train_err.csv\".format(model_path), train_err)\n",
        "  np.savetxt(\"{}_train_loss.csv\".format(model_path), train_loss)\n",
        "  np.savetxt(\"{}_val_err.csv\".format(model_path), val_err)\n",
        "  np.savetxt(\"{}_val_loss.csv\".format(model_path), val_loss)\n",
        "\n",
        "\n",
        "def save_weight(net, model_code):\n",
        "  \"\"\"model code will be a string code we assigned to each model\"\"\"\n",
        "  weight_dir = \"/content/drive/My Drive/model_weights\"\n",
        "  os.makedirs(weight_dir, exist_ok=True)\n",
        "\n",
        "  model_path = os.path.join(weight_dir, model_code)\n",
        "  torch.save(net.state_dict(), f\"{model_path}.pth\")\n",
        "\n",
        "\n",
        "def load_weight(net, model_code):\n",
        "  \"\"\"model code will be a string code we assigned to each model\"\"\"\n",
        "  weight_dir = \"/content/drive/My Drive/model_weights\"\n",
        "  model_path = os.path.join(weight_dir, model_code)\n",
        "\n",
        "  net.load_state_dict(torch.load(f\"{model_path}.pth\"))\n",
        "  net.eval()\n",
        "  return net"
      ]
    },
    {
      "cell_type": "code",
      "execution_count": 8,
      "metadata": {
        "id": "IKchax2xmhJC"
      },
      "outputs": [],
      "source": [
        "def plot_training_curve(model_code):\n",
        "    import matplotlib.pyplot as plt\n",
        "\n",
        "    save_dir = \"/content/drive/My Drive/training_results\"\n",
        "    path = os.path.join(save_dir, model_code)\n",
        "\n",
        "    train_err = np.loadtxt(\"{}_train_err.csv\".format(path))\n",
        "    val_err = np.loadtxt(\"{}_val_err.csv\".format(path))\n",
        "    train_loss = np.loadtxt(\"{}_train_loss.csv\".format(path))\n",
        "    val_loss = np.loadtxt(\"{}_val_loss.csv\".format(path))\n",
        "\n",
        "    # plt.title(\"Train vs Validation Error\")\n",
        "    plt.title(\"Train Error\")\n",
        "    n = len(train_err) # number of epochs\n",
        "    plt.plot(range(1,n+1), train_err, label=\"Train\")\n",
        "    # plt.plot(range(1,n+1), val_err, label=\"Validation\")\n",
        "    plt.xlabel(\"Epoch\")\n",
        "    plt.ylabel(\"Error\")\n",
        "    plt.legend(loc='best')\n",
        "    plt.show()\n",
        "    # plt.title(\"Train vs Validation Loss\")\n",
        "    plt.title(\"Train Loss\")\n",
        "    plt.plot(range(1,n+1), train_loss, label=\"Train\")\n",
        "    # plt.plot(range(1,n+1), val_loss, label=\"Validation\")\n",
        "    plt.xlabel(\"Epoch\")\n",
        "    plt.ylabel(\"Loss\")\n",
        "    plt.legend(loc='best')\n",
        "    plt.show()"
      ]
    },
    {
      "cell_type": "markdown",
      "metadata": {
        "id": "U6vla6419N9A"
      },
      "source": [
        "# Not important Before this (wave2vec)\n"
      ]
    },
    {
      "cell_type": "code",
      "execution_count": 9,
      "metadata": {
        "colab": {
          "base_uri": "https://localhost:8080/"
        },
        "id": "vkFBj6L9ccKa",
        "outputId": "be6e3e80-f157-4cee-e211-fd9f0e4c0502"
      },
      "outputs": [
        {
          "output_type": "stream",
          "name": "stdout",
          "text": [
            "Requirement already satisfied: transformers in /usr/local/lib/python3.11/dist-packages (4.50.3)\n",
            "Requirement already satisfied: datasets in /usr/local/lib/python3.11/dist-packages (3.5.0)\n",
            "Requirement already satisfied: torchaudio in /usr/local/lib/python3.11/dist-packages (2.6.0+cu124)\n",
            "Requirement already satisfied: filelock in /usr/local/lib/python3.11/dist-packages (from transformers) (3.18.0)\n",
            "Requirement already satisfied: huggingface-hub<1.0,>=0.26.0 in /usr/local/lib/python3.11/dist-packages (from transformers) (0.30.1)\n",
            "Requirement already satisfied: numpy>=1.17 in /usr/local/lib/python3.11/dist-packages (from transformers) (2.0.2)\n",
            "Requirement already satisfied: packaging>=20.0 in /usr/local/lib/python3.11/dist-packages (from transformers) (24.2)\n",
            "Requirement already satisfied: pyyaml>=5.1 in /usr/local/lib/python3.11/dist-packages (from transformers) (6.0.2)\n",
            "Requirement already satisfied: regex!=2019.12.17 in /usr/local/lib/python3.11/dist-packages (from transformers) (2024.11.6)\n",
            "Requirement already satisfied: requests in /usr/local/lib/python3.11/dist-packages (from transformers) (2.32.3)\n",
            "Requirement already satisfied: tokenizers<0.22,>=0.21 in /usr/local/lib/python3.11/dist-packages (from transformers) (0.21.1)\n",
            "Requirement already satisfied: safetensors>=0.4.3 in /usr/local/lib/python3.11/dist-packages (from transformers) (0.5.3)\n",
            "Requirement already satisfied: tqdm>=4.27 in /usr/local/lib/python3.11/dist-packages (from transformers) (4.67.1)\n",
            "Requirement already satisfied: pyarrow>=15.0.0 in /usr/local/lib/python3.11/dist-packages (from datasets) (18.1.0)\n",
            "Requirement already satisfied: dill<0.3.9,>=0.3.0 in /usr/local/lib/python3.11/dist-packages (from datasets) (0.3.8)\n",
            "Requirement already satisfied: pandas in /usr/local/lib/python3.11/dist-packages (from datasets) (2.2.2)\n",
            "Requirement already satisfied: xxhash in /usr/local/lib/python3.11/dist-packages (from datasets) (3.5.0)\n",
            "Requirement already satisfied: multiprocess<0.70.17 in /usr/local/lib/python3.11/dist-packages (from datasets) (0.70.16)\n",
            "Requirement already satisfied: fsspec<=2024.12.0,>=2023.1.0 in /usr/local/lib/python3.11/dist-packages (from fsspec[http]<=2024.12.0,>=2023.1.0->datasets) (2024.12.0)\n",
            "Requirement already satisfied: aiohttp in /usr/local/lib/python3.11/dist-packages (from datasets) (3.11.15)\n",
            "Requirement already satisfied: torch==2.6.0 in /usr/local/lib/python3.11/dist-packages (from torchaudio) (2.6.0+cu124)\n",
            "Requirement already satisfied: typing-extensions>=4.10.0 in /usr/local/lib/python3.11/dist-packages (from torch==2.6.0->torchaudio) (4.13.0)\n",
            "Requirement already satisfied: networkx in /usr/local/lib/python3.11/dist-packages (from torch==2.6.0->torchaudio) (3.4.2)\n",
            "Requirement already satisfied: jinja2 in /usr/local/lib/python3.11/dist-packages (from torch==2.6.0->torchaudio) (3.1.6)\n",
            "Requirement already satisfied: nvidia-cuda-nvrtc-cu12==12.4.127 in /usr/local/lib/python3.11/dist-packages (from torch==2.6.0->torchaudio) (12.4.127)\n",
            "Requirement already satisfied: nvidia-cuda-runtime-cu12==12.4.127 in /usr/local/lib/python3.11/dist-packages (from torch==2.6.0->torchaudio) (12.4.127)\n",
            "Requirement already satisfied: nvidia-cuda-cupti-cu12==12.4.127 in /usr/local/lib/python3.11/dist-packages (from torch==2.6.0->torchaudio) (12.4.127)\n",
            "Requirement already satisfied: nvidia-cudnn-cu12==9.1.0.70 in /usr/local/lib/python3.11/dist-packages (from torch==2.6.0->torchaudio) (9.1.0.70)\n",
            "Requirement already satisfied: nvidia-cublas-cu12==12.4.5.8 in /usr/local/lib/python3.11/dist-packages (from torch==2.6.0->torchaudio) (12.4.5.8)\n",
            "Requirement already satisfied: nvidia-cufft-cu12==11.2.1.3 in /usr/local/lib/python3.11/dist-packages (from torch==2.6.0->torchaudio) (11.2.1.3)\n",
            "Requirement already satisfied: nvidia-curand-cu12==10.3.5.147 in /usr/local/lib/python3.11/dist-packages (from torch==2.6.0->torchaudio) (10.3.5.147)\n",
            "Requirement already satisfied: nvidia-cusolver-cu12==11.6.1.9 in /usr/local/lib/python3.11/dist-packages (from torch==2.6.0->torchaudio) (11.6.1.9)\n",
            "Requirement already satisfied: nvidia-cusparse-cu12==12.3.1.170 in /usr/local/lib/python3.11/dist-packages (from torch==2.6.0->torchaudio) (12.3.1.170)\n",
            "Requirement already satisfied: nvidia-cusparselt-cu12==0.6.2 in /usr/local/lib/python3.11/dist-packages (from torch==2.6.0->torchaudio) (0.6.2)\n",
            "Requirement already satisfied: nvidia-nccl-cu12==2.21.5 in /usr/local/lib/python3.11/dist-packages (from torch==2.6.0->torchaudio) (2.21.5)\n",
            "Requirement already satisfied: nvidia-nvtx-cu12==12.4.127 in /usr/local/lib/python3.11/dist-packages (from torch==2.6.0->torchaudio) (12.4.127)\n",
            "Requirement already satisfied: nvidia-nvjitlink-cu12==12.4.127 in /usr/local/lib/python3.11/dist-packages (from torch==2.6.0->torchaudio) (12.4.127)\n",
            "Requirement already satisfied: triton==3.2.0 in /usr/local/lib/python3.11/dist-packages (from torch==2.6.0->torchaudio) (3.2.0)\n",
            "Requirement already satisfied: sympy==1.13.1 in /usr/local/lib/python3.11/dist-packages (from torch==2.6.0->torchaudio) (1.13.1)\n",
            "Requirement already satisfied: mpmath<1.4,>=1.1.0 in /usr/local/lib/python3.11/dist-packages (from sympy==1.13.1->torch==2.6.0->torchaudio) (1.3.0)\n",
            "Requirement already satisfied: aiohappyeyeballs>=2.3.0 in /usr/local/lib/python3.11/dist-packages (from aiohttp->datasets) (2.6.1)\n",
            "Requirement already satisfied: aiosignal>=1.1.2 in /usr/local/lib/python3.11/dist-packages (from aiohttp->datasets) (1.3.2)\n",
            "Requirement already satisfied: attrs>=17.3.0 in /usr/local/lib/python3.11/dist-packages (from aiohttp->datasets) (25.3.0)\n",
            "Requirement already satisfied: frozenlist>=1.1.1 in /usr/local/lib/python3.11/dist-packages (from aiohttp->datasets) (1.5.0)\n",
            "Requirement already satisfied: multidict<7.0,>=4.5 in /usr/local/lib/python3.11/dist-packages (from aiohttp->datasets) (6.3.1)\n",
            "Requirement already satisfied: propcache>=0.2.0 in /usr/local/lib/python3.11/dist-packages (from aiohttp->datasets) (0.3.1)\n",
            "Requirement already satisfied: yarl<2.0,>=1.17.0 in /usr/local/lib/python3.11/dist-packages (from aiohttp->datasets) (1.18.3)\n",
            "Requirement already satisfied: charset-normalizer<4,>=2 in /usr/local/lib/python3.11/dist-packages (from requests->transformers) (3.4.1)\n",
            "Requirement already satisfied: idna<4,>=2.5 in /usr/local/lib/python3.11/dist-packages (from requests->transformers) (3.10)\n",
            "Requirement already satisfied: urllib3<3,>=1.21.1 in /usr/local/lib/python3.11/dist-packages (from requests->transformers) (2.3.0)\n",
            "Requirement already satisfied: certifi>=2017.4.17 in /usr/local/lib/python3.11/dist-packages (from requests->transformers) (2025.1.31)\n",
            "Requirement already satisfied: python-dateutil>=2.8.2 in /usr/local/lib/python3.11/dist-packages (from pandas->datasets) (2.8.2)\n",
            "Requirement already satisfied: pytz>=2020.1 in /usr/local/lib/python3.11/dist-packages (from pandas->datasets) (2025.2)\n",
            "Requirement already satisfied: tzdata>=2022.7 in /usr/local/lib/python3.11/dist-packages (from pandas->datasets) (2025.2)\n",
            "Requirement already satisfied: six>=1.5 in /usr/local/lib/python3.11/dist-packages (from python-dateutil>=2.8.2->pandas->datasets) (1.17.0)\n",
            "Requirement already satisfied: MarkupSafe>=2.0 in /usr/local/lib/python3.11/dist-packages (from jinja2->torch==2.6.0->torchaudio) (3.0.2)\n"
          ]
        }
      ],
      "source": [
        "!pip install transformers datasets torchaudio"
      ]
    },
    {
      "cell_type": "code",
      "execution_count": 10,
      "metadata": {
        "colab": {
          "base_uri": "https://localhost:8080/"
        },
        "id": "Px94ZYQYniRP",
        "outputId": "54ac36d0-0ebc-4c3c-ab30-a58f48f1d019"
      },
      "outputs": [
        {
          "output_type": "stream",
          "name": "stderr",
          "text": [
            "/usr/local/lib/python3.11/dist-packages/huggingface_hub/utils/_auth.py:94: UserWarning: \n",
            "The secret `HF_TOKEN` does not exist in your Colab secrets.\n",
            "To authenticate with the Hugging Face Hub, create a token in your settings tab (https://huggingface.co/settings/tokens), set it as secret in your Google Colab and restart your session.\n",
            "You will be able to reuse this secret in all of your notebooks.\n",
            "Please note that authentication is recommended but still optional to access public models or datasets.\n",
            "  warnings.warn(\n",
            "/usr/local/lib/python3.11/dist-packages/transformers/configuration_utils.py:315: UserWarning: Passing `gradient_checkpointing` to a config initialization is deprecated and will be removed in v5 Transformers. Using `model.gradient_checkpointing_enable()` instead, or if you are using the `Trainer` API, pass `gradient_checkpointing=True` in your `TrainingArguments`.\n",
            "  warnings.warn(\n",
            "Some weights of Wav2Vec2ForSequenceClassification were not initialized from the model checkpoint at facebook/wav2vec2-base and are newly initialized: ['classifier.bias', 'classifier.weight', 'projector.bias', 'projector.weight']\n",
            "You should probably TRAIN this model on a down-stream task to be able to use it for predictions and inference.\n"
          ]
        }
      ],
      "source": [
        "from transformers import Wav2Vec2ForSequenceClassification, Wav2Vec2FeatureExtractor\n",
        "\n",
        "model_name = \"facebook/wav2vec2-base\"\n",
        "\n",
        "model = Wav2Vec2ForSequenceClassification.from_pretrained(\n",
        "    model_name,\n",
        "    num_labels=len(LANGUAGES),\n",
        "    output_hidden_states=True\n",
        ")\n",
        "\n",
        "feature_extractor = Wav2Vec2FeatureExtractor.from_pretrained(model_name)"
      ]
    },
    {
      "cell_type": "code",
      "execution_count": 11,
      "metadata": {
        "id": "TiAzzqfcnoVb"
      },
      "outputs": [],
      "source": [
        "import torchaudio\n",
        "\n",
        "def preprocess_audio(audio_path):\n",
        "    waveform, sample_rate = torchaudio.load(audio_path)\n",
        "    waveform = torchaudio.functional.resample(waveform, sample_rate, 16000)\n",
        "\n",
        "    inputs = feature_extractor(\n",
        "        waveform.squeeze().numpy(),\n",
        "        sampling_rate=16000,\n",
        "        max_length=16000 * 5,\n",
        "        truncation=True,\n",
        "        padding=\"max_length\",\n",
        "        return_tensors=\"pt\"\n",
        "    )\n",
        "    return inputs.input_values.squeeze(0)"
      ]
    },
    {
      "cell_type": "code",
      "execution_count": 12,
      "metadata": {
        "id": "tIfZPDZcnvZR"
      },
      "outputs": [],
      "source": [
        "class Wav2Vec2Classifier(nn.Module):\n",
        "    def __init__(self, num_classes, pretrained_model):\n",
        "        super().__init__()\n",
        "        self.wav2vec2 = pretrained_model\n",
        "        self.freeze_feature_extractor()\n",
        "        self.fc1 = nn.Linear(self.wav2vec2.config.hidden_size, 128)\n",
        "        self.fc2 = nn.Linear(128, num_classes)\n",
        "\n",
        "    def freeze_feature_extractor(self):\n",
        "        for param in self.wav2vec2.wav2vec2.parameters():\n",
        "            param.requires_grad = False\n",
        "\n",
        "    def forward(self, x, attention_mask=None):\n",
        "        outputs = self.wav2vec2(x, attention_mask=attention_mask)\n",
        "        x = self.fc1(outputs.hidden_states[-1][:, 0, :])\n",
        "        x = F.relu(x)\n",
        "        x = self.fc2(x)\n",
        "        return x"
      ]
    },
    {
      "cell_type": "code",
      "execution_count": 13,
      "metadata": {
        "id": "E3EUQ1Njnyuu"
      },
      "outputs": [],
      "source": [
        "import random\n",
        "def load_data(languages, train_batch, val_batch, randomOn=False):\n",
        "  train_data = []\n",
        "  val_data = []\n",
        "\n",
        "  train_audio = []\n",
        "  train_labels = []\n",
        "  train_sr = []\n",
        "  val_audio = []\n",
        "  val_labels = []\n",
        "  val_sr = []\n",
        "\n",
        "  one_hot = F.one_hot(torch.tensor([0, 1, 2, 3, 4]), num_classes=len(languages))\n",
        "\n",
        "  for i in range(len(one_hot)):\n",
        "    one_hot[i] = one_hot[i].to(dtype=torch.float)\n",
        "\n",
        "  for i in range(len(languages)):\n",
        "    # Load common voice 17 dataset training set with streaming, and enabling custom code (necessary to load dataset correctly)\n",
        "    if randomOn:\n",
        "      train_set = load_dataset(\"mozilla-foundation/common_voice_17_0\", languages[i], split=\"train\", streaming=True, trust_remote_code=True)\n",
        "      train_data.append(train_set.shuffle(buffer_size=train_batch, seed=random.randrange(1,100)))\n",
        "      val_set = load_dataset(\"mozilla-foundation/common_voice_17_0\", languages[i], split=\"validation\", streaming=True, trust_remote_code=True)\n",
        "      val_data.append(val_set.shuffle(buffer_size=val_batch, seed=random.randrange(1,100)))\n",
        "    else:\n",
        "      train_data.append(load_dataset(\"mozilla-foundation/common_voice_17_0\", languages[i], split=\"train\", streaming=True, cache_dir='/content/my_cache', trust_remote_code=True))\n",
        "      val_data.append(load_dataset(\"mozilla-foundation/common_voice_17_0\", languages[i], split=\"validation\", streaming=True, cache_dir='/content/my_cache', trust_remote_code=True))\n",
        "\n",
        "    it = iter(train_data[i])\n",
        "    it2 = iter(val_data[i])\n",
        "\n",
        "    for j in range(train_batch):\n",
        "      train_item = next(it)\n",
        "\n",
        "      if train_item:\n",
        "        train_audio.append(train_item['audio']['array'])\n",
        "        train_sr.append(train_item['audio']['sampling_rate'])\n",
        "        train_labels.append(i)\n",
        "\n",
        "    for j in range(val_batch):\n",
        "      val_item = next(it2)\n",
        "\n",
        "      if val_item:\n",
        "        val_audio.append(val_item['audio']['array'])\n",
        "        val_sr.append(val_item['audio']['sampling_rate'])\n",
        "        val_labels.append(i)\n",
        "\n",
        "\n",
        "    print(f\"Loaded {languages[i]}\")\n",
        "\n",
        "  return train_audio, train_labels, train_sr, val_audio, val_labels, val_sr"
      ]
    },
    {
      "cell_type": "code",
      "execution_count": 14,
      "metadata": {
        "id": "FQMif4H2skBI"
      },
      "outputs": [],
      "source": [
        "def process_batch(audio_data, sample_rates, batch_size):\n",
        "    audio_processed = []\n",
        "    TARGET_SR = 16000  # Wav2Vec2 requires 16kHz so we are locked in this sr\n",
        "    # DURATION = 5\n",
        "    # MAX_LENGTH = TARGET_SR * DURATION\n",
        "\n",
        "    for i in range(batch_size):\n",
        "        audio_resampled = librosa.resample(\n",
        "            audio_data[i],\n",
        "            orig_sr=sample_rates[i],\n",
        "            target_sr=TARGET_SR\n",
        "        )\n",
        "\n",
        "        # audio_trimmed, _ = librosa.effects.trim(audio_resampled, top_db=30)\n",
        "\n",
        "        # if len(audio_trimmed) > MAX_LENGTH:\n",
        "        #     audio_trimmed = audio_trimmed[:MAX_LENGTH]\n",
        "        # else:\n",
        "        #     padding = MAX_LENGTH - len(audio_trimmed)\n",
        "        #     audio_trimmed = np.pad(audio_trimmed, (0, padding), mode='constant')\n",
        "\n",
        "        # audio_processed.append(audio_trimmed.astype(np.float32))\n",
        "        audio_processed.append(audio_resampled.astype(np.float32))\n",
        "\n",
        "    return audio_processed"
      ]
    },
    {
      "cell_type": "code",
      "execution_count": 15,
      "metadata": {
        "id": "xWZm3j2bsm8f"
      },
      "outputs": [],
      "source": [
        "from transformers import Wav2Vec2FeatureExtractor\n",
        "from torch.utils.data import Dataset, DataLoader\n",
        "\n",
        "feature_extractor = Wav2Vec2FeatureExtractor.from_pretrained(\"facebook/wav2vec2-base-960h\")\n",
        "\n",
        "class Wav2Vec2Dataset(Dataset):\n",
        "    def __init__(self, audio_list, label_list):\n",
        "        self.audio = audio_list  # List of raw waveforms (numpy arrays)\n",
        "        self.labels = label_list # List of integer labels\n",
        "\n",
        "    def __len__(self):\n",
        "        return len(self.audio)\n",
        "\n",
        "    def __getitem__(self, idx):\n",
        "        return self.audio[idx], self.labels[idx]\n",
        "\n",
        "\n",
        "def collate_fn(batch):\n",
        "    audio_arrays = [item[0] for item in batch]\n",
        "    labels = torch.tensor([item[1] for item in batch], dtype=torch.long)\n",
        "\n",
        "    inputs = feature_extractor(\n",
        "        audio_arrays,\n",
        "        sampling_rate=16000,\n",
        "        padding=\"max_length\",\n",
        "        max_length=80000,\n",
        "        truncation=True,\n",
        "        return_tensors=\"pt\",\n",
        "        return_attention_mask=True\n",
        "    )\n",
        "\n",
        "    return inputs.input_values, inputs.attention_mask, labels"
      ]
    },
    {
      "cell_type": "code",
      "execution_count": 16,
      "metadata": {
        "id": "aP8jM5fWsrsL"
      },
      "outputs": [],
      "source": [
        "from transformers import Wav2Vec2ForSequenceClassification\n",
        "\n",
        "def train_wav2vec2(model):\n",
        "    for param in model.wav2vec2.parameters():\n",
        "        param.requires_grad = False\n",
        "\n",
        "    train_dataset = Wav2Vec2Dataset(train_processed, train_labels)\n",
        "    train_loader = DataLoader(train_dataset, batch_size=16, collate_fn=collate_fn, shuffle=True)\n",
        "\n",
        "    val_dataset = Wav2Vec2Dataset(val_processed, val_labels)\n",
        "    val_loader = DataLoader(val_dataset, batch_size=16, collate_fn=collate_fn)\n",
        "\n",
        "    optimizer = torch.optim.AdamW(model.parameters(), lr=1e-4)\n",
        "    loss_fn = torch.nn.CrossEntropyLoss()\n",
        "    device = torch.device(\"cuda\" if torch.cuda.is_available() else \"cpu\")\n",
        "    model.to(device)\n",
        "\n",
        "    for epoch in range(10):\n",
        "        model.train()\n",
        "        total_loss = 0\n",
        "\n",
        "        correct = 0\n",
        "        total_acc = 0\n",
        "\n",
        "        for input_values, attention_mask, labels in train_loader:\n",
        "            input_values = input_values.to(device)\n",
        "            attention_mask = attention_mask.to(device)\n",
        "            labels = labels.to(device)\n",
        "\n",
        "            outputs = model(input_values, attention_mask=attention_mask, labels=labels)\n",
        "\n",
        "            preds = torch.argmax(outputs.logits, dim=1)\n",
        "            correct += (preds == labels).sum().item()\n",
        "            total_acc += labels.size(0)\n",
        "\n",
        "            loss = outputs.loss\n",
        "\n",
        "            loss.backward()\n",
        "            optimizer.step()\n",
        "            optimizer.zero_grad()\n",
        "\n",
        "            total_loss += loss.item()\n",
        "\n",
        "        if epoch < 6:\n",
        "            num_layers_to_unfreeze = min(len(model.wav2vec2.encoder.layers), epoch + 1)\n",
        "            for layer in model.wav2vec2.encoder.layers[-num_layers_to_unfreeze:]:\n",
        "                for param in layer.parameters():\n",
        "                    param.requires_grad = True\n",
        "        else:\n",
        "            for param in model.wav2vec2.parameters():\n",
        "                param.requires_grad = True\n",
        "\n",
        "        if epoch == 6:\n",
        "            optimizer = torch.optim.AdamW(model.parameters(), lr=1e-5)\n",
        "\n",
        "        val_acc, val_loss = evaluate_wav2vec2(model, val_loader, device, loss_fn)\n",
        "        train_acc = correct / total_acc * 100\n",
        "        model_name_save = \"wav2vec2_model_pytorch_removetrimming_\" + str(epoch)\n",
        "        save_weight(model, model_name_save)\n",
        "        print(f\"Epoch {epoch+1} | Train Loss: {total_loss/len(train_loader):.4f} | Train Acc: {train_acc:.2f}% | Val Loss: {val_loss:.4f} | Val Acc: {val_acc:.2f}%\")\n",
        "\n",
        "\n",
        "def evaluate_wav2vec2(model, loader, device, criterion):\n",
        "    model.eval()\n",
        "    correct = 0\n",
        "    total = 0\n",
        "    total_loss = 0.0\n",
        "\n",
        "    with torch.no_grad():\n",
        "        for input_values, attention_mask, labels in loader:\n",
        "            input_values = input_values.to(device)\n",
        "            attention_mask = attention_mask.to(device)\n",
        "            labels = labels.to(device)\n",
        "\n",
        "            outputs = model(input_values, attention_mask=attention_mask)\n",
        "\n",
        "            loss = criterion(outputs.logits, labels)\n",
        "            total_loss += loss.item() * labels.size(0)\n",
        "\n",
        "            preds = torch.argmax(outputs.logits, dim=1)\n",
        "            correct += (preds == labels).sum().item()\n",
        "            total += labels.size(0)\n",
        "\n",
        "    return correct / total * 100, total_loss / total"
      ]
    },
    {
      "cell_type": "code",
      "execution_count": null,
      "metadata": {
        "colab": {
          "base_uri": "https://localhost:8080/"
        },
        "id": "AP2fpiq9CeM8",
        "outputId": "dae2288e-32ef-4b10-fd46-1b4fe69b8345"
      },
      "outputs": [
        {
          "output_type": "stream",
          "name": "stdout",
          "text": [
            "768\n"
          ]
        }
      ],
      "source": [
        "print(model.wav2vec2.config.hidden_size)"
      ]
    },
    {
      "cell_type": "code",
      "execution_count": null,
      "metadata": {
        "colab": {
          "base_uri": "https://localhost:8080/"
        },
        "id": "DqXypaf_ssQN",
        "outputId": "3d940df4-cd91-404e-a4c7-598ad9536713"
      },
      "outputs": [
        {
          "output_type": "stream",
          "name": "stderr",
          "text": [
            "Reading metadata...: 1101170it [00:21, 50280.74it/s]\n",
            "Reading metadata...: 16393it [00:00, 29080.73it/s]\n"
          ]
        },
        {
          "output_type": "stream",
          "name": "stdout",
          "text": [
            "Loaded en\n"
          ]
        },
        {
          "output_type": "stream",
          "name": "stderr",
          "text": [
            "Reading metadata...: 589100it [00:17, 34013.17it/s]\n",
            "'(ReadTimeoutError(\"HTTPSConnectionPool(host='huggingface.co', port=443): Read timed out. (read timeout=10)\"), '(Request ID: 2f017bde-2731-4061-9523-9a3d070e904b)')' thrown while requesting GET https://huggingface.co/datasets/mozilla-foundation/common_voice_17_0/resolve/main/audio/de/train/de_train_6.tar\n",
            "WARNING:huggingface_hub.utils._http:'(ReadTimeoutError(\"HTTPSConnectionPool(host='huggingface.co', port=443): Read timed out. (read timeout=10)\"), '(Request ID: 2f017bde-2731-4061-9523-9a3d070e904b)')' thrown while requesting GET https://huggingface.co/datasets/mozilla-foundation/common_voice_17_0/resolve/main/audio/de/train/de_train_6.tar\n",
            "Retrying in 1s [Retry 1/5].\n",
            "WARNING:huggingface_hub.utils._http:Retrying in 1s [Retry 1/5].\n",
            "Reading metadata...: 16183it [00:01, 15760.79it/s]\n"
          ]
        },
        {
          "output_type": "stream",
          "name": "stdout",
          "text": [
            "Loaded de\n"
          ]
        },
        {
          "output_type": "stream",
          "name": "stderr",
          "text": [
            "Reading metadata...: 34898it [00:01, 34009.77it/s]\n",
            "Reading metadata...: 11252it [00:00, 34369.00it/s]\n"
          ]
        },
        {
          "output_type": "stream",
          "name": "stdout",
          "text": [
            "Loaded nl\n"
          ]
        },
        {
          "output_type": "stream",
          "name": "stderr",
          "text": [
            "Reading metadata...: 7744it [00:00, 11733.44it/s]\n",
            "Reading metadata...: 5210it [00:02, 1997.65it/s]\n"
          ]
        },
        {
          "output_type": "stream",
          "name": "stdout",
          "text": [
            "Loaded sv-SE\n"
          ]
        },
        {
          "output_type": "stream",
          "name": "stderr",
          "text": [
            "Reading metadata...: 3484it [00:00, 12475.29it/s]\n",
            "Reading metadata...: 2105it [00:00, 9346.18it/s]\n"
          ]
        },
        {
          "output_type": "stream",
          "name": "stdout",
          "text": [
            "Loaded da\n"
          ]
        }
      ],
      "source": [
        "train_audio, train_labels, train_sr, val_audio, val_labels, val_sr = load_data(\n",
        "    languages=LANGUAGES,\n",
        "    train_batch=1800,\n",
        "    val_batch=600,\n",
        "    randomOn=True\n",
        ")"
      ]
    },
    {
      "cell_type": "code",
      "execution_count": null,
      "metadata": {
        "id": "u2qEpOwOuAH5"
      },
      "outputs": [],
      "source": [
        "train_processed = process_batch(train_audio, train_sr, len(train_audio))\n",
        "val_processed = process_batch(val_audio, val_sr, len(val_audio))"
      ]
    },
    {
      "cell_type": "code",
      "source": [
        "model = Wav2Vec2ForSequenceClassification.from_pretrained(\n",
        "    \"facebook/wav2vec2-base-960h\",\n",
        "    num_labels=len(LANGUAGES)\n",
        ")"
      ],
      "metadata": {
        "colab": {
          "base_uri": "https://localhost:8080/",
          "height": 136,
          "referenced_widgets": [
            "409b8f82fbc146b5bece2444c5934f6c",
            "dfeda70b02494865b3fc84a8084f1f28",
            "0ffb4a9a8f6e40188e6d44f94e9aa086",
            "19bdd7c8099b4ece81a460c12981f06c",
            "c90bbae1a9f449c39a43ff4ee689faf7",
            "ae82979f00e04d3b8be3bb94a0e96056",
            "4b12a7cbd5bd4bbd854b36a4954add51",
            "1defec7c4370412484264edd2276e886",
            "b9fdc5f04a6d4f0b9331008c1f842543",
            "d06f9ab8213e49799e99d9a6fa9ae9d0",
            "3125dd5a81154888beb96cca0b3f4d48",
            "cc91dd8714ea4b7fb69418327501dcf6",
            "2a63c3f058b34bcb80b94b65fc33b6a3",
            "13e7f9d39bd44275834c0d30fcf41b85",
            "e521c3f1f002422b83fa2e8fd5034205",
            "e21d43e5b32e47a98f2e8d4a30692f26",
            "4efa11d087c249c887026fe816007707",
            "621d2fb3488f40ffb395c5f144a878fb",
            "2bc8bfd93af04a94a9b143d54ff7ffb1",
            "b9748ea7f13545de83291c1f8aa20f6a",
            "9d5e1ae3ca8c433ca0a4247f0e3a1889",
            "04e8c824914449ef962f3d37c8723083"
          ]
        },
        "id": "tztSGd7l3fkn",
        "outputId": "5abc8e55-86da-4e98-e15b-ffe0ae6fc4f0"
      },
      "execution_count": 17,
      "outputs": [
        {
          "output_type": "display_data",
          "data": {
            "text/plain": [
              "config.json:   0%|          | 0.00/1.60k [00:00<?, ?B/s]"
            ],
            "application/vnd.jupyter.widget-view+json": {
              "version_major": 2,
              "version_minor": 0,
              "model_id": "409b8f82fbc146b5bece2444c5934f6c"
            }
          },
          "metadata": {}
        },
        {
          "output_type": "display_data",
          "data": {
            "text/plain": [
              "model.safetensors:   0%|          | 0.00/378M [00:00<?, ?B/s]"
            ],
            "application/vnd.jupyter.widget-view+json": {
              "version_major": 2,
              "version_minor": 0,
              "model_id": "cc91dd8714ea4b7fb69418327501dcf6"
            }
          },
          "metadata": {}
        },
        {
          "output_type": "stream",
          "name": "stderr",
          "text": [
            "Some weights of Wav2Vec2ForSequenceClassification were not initialized from the model checkpoint at facebook/wav2vec2-base-960h and are newly initialized: ['classifier.bias', 'classifier.weight', 'projector.bias', 'projector.weight', 'wav2vec2.masked_spec_embed']\n",
            "You should probably TRAIN this model on a down-stream task to be able to use it for predictions and inference.\n"
          ]
        }
      ]
    },
    {
      "cell_type": "code",
      "execution_count": null,
      "metadata": {
        "colab": {
          "base_uri": "https://localhost:8080/"
        },
        "id": "nL88fToMumy3",
        "outputId": "9c7570b3-1c6f-4749-b881-aab92755bcf0"
      },
      "outputs": [
        {
          "output_type": "stream",
          "name": "stderr",
          "text": [
            "Some weights of Wav2Vec2ForSequenceClassification were not initialized from the model checkpoint at facebook/wav2vec2-base-960h and are newly initialized: ['classifier.bias', 'classifier.weight', 'projector.bias', 'projector.weight', 'wav2vec2.masked_spec_embed']\n",
            "You should probably TRAIN this model on a down-stream task to be able to use it for predictions and inference.\n"
          ]
        },
        {
          "output_type": "stream",
          "name": "stdout",
          "text": [
            "Epoch 1 | Train Loss: 1.4810 | Train Acc: 40.58% | Val Loss: 1.4017 | Val Acc: 40.80%\n",
            "Epoch 2 | Train Loss: 1.0619 | Train Acc: 54.74% | Val Loss: 1.2176 | Val Acc: 53.40%\n",
            "Epoch 3 | Train Loss: 0.7017 | Train Acc: 73.07% | Val Loss: 0.9138 | Val Acc: 68.87%\n",
            "Epoch 4 | Train Loss: 0.4460 | Train Acc: 83.26% | Val Loss: 0.8029 | Val Acc: 75.43%\n",
            "Epoch 5 | Train Loss: 0.2757 | Train Acc: 90.37% | Val Loss: 0.6698 | Val Acc: 81.53%\n",
            "Epoch 6 | Train Loss: 0.2038 | Train Acc: 93.11% | Val Loss: 0.5969 | Val Acc: 83.07%\n",
            "Epoch 7 | Train Loss: 0.1431 | Train Acc: 95.04% | Val Loss: 1.0377 | Val Acc: 76.77%\n",
            "Epoch 8 | Train Loss: 0.0629 | Train Acc: 98.13% | Val Loss: 0.6948 | Val Acc: 84.60%\n",
            "Epoch 9 | Train Loss: 0.0478 | Train Acc: 98.64% | Val Loss: 0.8825 | Val Acc: 81.80%\n",
            "Epoch 10 | Train Loss: 0.0425 | Train Acc: 98.83% | Val Loss: 0.7030 | Val Acc: 84.90%\n"
          ]
        }
      ],
      "source": [
        "train_wav2vec2(model)"
      ]
    },
    {
      "cell_type": "code",
      "execution_count": null,
      "metadata": {
        "id": "ATsGyWQW_cqk"
      },
      "outputs": [],
      "source": [
        "save_weight(model, \"my_wav2vec2_model_pytorch\")"
      ]
    },
    {
      "cell_type": "code",
      "execution_count": 18,
      "metadata": {
        "id": "bsZX-JxWf98d"
      },
      "outputs": [],
      "source": [
        "model = load_weight(model, \"my_wav2vec2_model_pytorch\")"
      ]
    },
    {
      "cell_type": "code",
      "execution_count": 48,
      "metadata": {
        "id": "IkxLF_YrxR8Z"
      },
      "outputs": [],
      "source": [
        "def load_test_data(languages, test_batch, randomOn=True):\n",
        "  test_data = []\n",
        "\n",
        "  test_audio = []\n",
        "  test_labels = []\n",
        "  test_sr = []\n",
        "\n",
        "  one_hot = F.one_hot(torch.tensor([0, 1, 2, 3, 4]), num_classes=len(languages))\n",
        "\n",
        "  for i in range(len(one_hot)):\n",
        "    one_hot[i] = one_hot[i].to(dtype=torch.float)\n",
        "\n",
        "  for i in range(len(languages)):\n",
        "    if randomOn:\n",
        "      test_set = load_dataset(\"mozilla-foundation/common_voice_17_0\", languages[i], split=\"test\", streaming=True, trust_remote_code=True)\n",
        "      test_data.append(test_set.shuffle(buffer_size=test_batch, seed=random.randrange(1,100)))\n",
        "    else:\n",
        "      test_data.append(load_dataset(\"mozilla-foundation/common_voice_17_0\", languages[i], split=\"test\", streaming=True, cache_dir='/content/my_cache', trust_remote_code=True))\n",
        "\n",
        "    it = iter(test_data[i])\n",
        "\n",
        "    for j in range(test_batch):\n",
        "      test_item = next(it)\n",
        "\n",
        "      if test_item:\n",
        "        test_audio.append(test_item['audio']['array'])\n",
        "        test_sr.append(test_item['audio']['sampling_rate'])\n",
        "        test_labels.append(i)\n",
        "\n",
        "    print(f\"Loaded {languages[i]}\")\n",
        "\n",
        "  return test_audio, test_labels, test_sr"
      ]
    },
    {
      "cell_type": "code",
      "execution_count": 50,
      "metadata": {
        "colab": {
          "base_uri": "https://localhost:8080/"
        },
        "id": "sONdHUOVyCwa",
        "outputId": "617a2bb4-4629-4391-f3e1-4e85586fbbfb"
      },
      "outputs": [
        {
          "output_type": "stream",
          "name": "stderr",
          "text": [
            "Reading metadata...: 16393it [00:00, 23756.70it/s]\n"
          ]
        },
        {
          "output_type": "stream",
          "name": "stdout",
          "text": [
            "en\n",
            "This led to both the Red Terror and the White Terror.\n",
            "en\n",
            "There was nothing to hold him back except himself.\n",
            "en\n",
            "It is a member theater of the Union of the Theatres of Europe.\n",
            "en\n",
            "YOU WANNA TAKE THIS OUTSIDE?\n",
            "en\n",
            "Who has already arrived?\n",
            "en\n",
            "We are going to the football game tonight.\n",
            "en\n",
            "These locomotives are serviced at Washwood Heath.\n",
            "en\n",
            "The most recent presidents of the United States are Donald Trump, Barack Obama, and George W. Bush.\n",
            "en\n",
            "Do you mean it?\n",
            "en\n",
            "Elizabeth was about the same age as Maria.\n",
            "en\n",
            "We spoke often.\n",
            "en\n",
            "That would be funny if he did.\n",
            "en\n",
            "You are so rude!\n",
            "en\n",
            "No one near the remote machine you could ring?\n",
            "en\n",
            "All's well that ends well.\n",
            "en\n",
            "How is Mozilla going to handle ambiguities like queue and cue?\n",
            "en\n",
            "A mansion was usually set on a one square.\n",
            "en\n",
            "Groves started writing songs when she was four years old.\n",
            "en\n",
            "It is a busy market town that serves a large surrounding area.\n",
            "en\n",
            "The attack on our root server overstrained our senior administrator.\n",
            "en\n",
            "Although she had flowers and applause, Mavis said she was not content.\n",
            "en\n",
            "The Sacramento Valley Rail Station is just a short walk away.\n",
            "en\n",
            "After playing tennis in virtual reality, he felt dizzy.\n",
            "en\n",
            "yes\n",
            "en\n",
            "Doing a handstand needs a lot of practice to learn.\n",
            "en\n",
            "He received his Ph.\n",
            "en\n",
            "Mrs. Lewis was selected as the new commissioner.\n",
            "en\n",
            "Have you the key?\n",
            "en\n",
            "I like apples, pears, and pomegranate, but I do like strawberries or grapes.\n",
            "en\n",
            "I guess you must think I'm kinda batty.\n",
            "Loaded en\n"
          ]
        },
        {
          "output_type": "stream",
          "name": "stderr",
          "text": [
            "Reading metadata...: 16183it [00:00, 19616.80it/s]\n"
          ]
        },
        {
          "output_type": "stream",
          "name": "stdout",
          "text": [
            "de\n",
            "Aber weißt du, wer den Stein wirklich ins Rollen gebracht hat?\n",
            "de\n",
            "Eislutscher sind viel leckerer als Eistüten.\n",
            "de\n",
            "Der Uranus ist der siebente Planet in unserem Sonnensystem.\n",
            "de\n",
            "Mit den Senators nahm er an drei All-Star-Spielen teil.\n",
            "de\n",
            "Durch Bestrahlen kann eine Kontamination der Nahrung verhindert werden.\n",
            "de\n",
            "Vielleicht können Sie uns diese Frage am Ende der Aussprache beantworten.\n",
            "de\n",
            "Ein großer Teil der Conciergerie wird heute für die Pariser Gerichte genutzt.\n",
            "de\n",
            "Wir werden in diese Debatte nicht erneut eintreten.\n",
            "de\n",
            "Als Kind wollte er nach eigenen Aussagen Footballspieler werden.\n",
            "de\n",
            "Vorher und danach war der Löwe im Wappen.\n",
            "de\n",
            "Prägend für Marianne war die liebevolle, nicht autoritäre Erziehung durch ihre Eltern.\n",
            "de\n",
            "Insbesondere keine Topflappen.\n",
            "de\n",
            "Jörg van Essen ist stets über die Landesliste Nordrhein-Westfalen in den Deutschen Bundestag eingezogen.\n",
            "de\n",
            "Zieht euch bitte draußen die Schuhe aus.\n",
            "de\n",
            "Der Innenraum trägt eine flache Holzdecke, an der Nord- und Westwand sind Emporen angebracht.\n",
            "de\n",
            "Aus den Prozessakten der Hexenverfolgung sind keine authentischen Rezepte bekannt.\n",
            "de\n",
            "Seinen Vornamen erhielt er in Gedenken an seinen früh verstorbenen Onkel.\n",
            "de\n",
            "Die Pfarrkirche des Ortes war dem Heiligen Martin gewidmet.\n",
            "de\n",
            "Wenn nicht, dann legt man sie irgendwo hin, wo Platz ist.\n",
            "de\n",
            "Auch Todesfälle in bislang unbestimmter Zahl sind vorgefallen.\n",
            "de\n",
            "Die bundesdeutsche Anti-Atom-Bewegung erlebte in Brokdorf ihren unaufhaltsamen Aufstieg und ihre größten Niederlagen.\n",
            "de\n",
            "Sie liegt im Osten des Landes, an der Grenze zu Tansania.\n",
            "de\n",
            "Dieses Maß wird in Zoll angegeben.\n",
            "de\n",
            "„Dann kann er jetzt vergnügt sein und schnell laufen“, sagte Tante Dahlia lebhaft.\n",
            "de\n",
            "Weshalb möchtest du nach Bergheim?\n",
            "de\n",
            "Wie ist die derzeitige Verkehrssituation?\n",
            "de\n",
            "Die Wagen erhielten ein einheitliches Erscheinungsbild in weiß mit rotem Fensterband.\n",
            "de\n",
            "Es ist die höchste Anzahl von Eukaryoten, die bisher bei den Faultieren beobachtet wurde.\n",
            "de\n",
            "Das Internet besteht aus vielen Computern, die miteinander verbunden sind.\n",
            "de\n",
            "Müller, geboren.\n",
            "Loaded de\n"
          ]
        },
        {
          "output_type": "stream",
          "name": "stderr",
          "text": [
            "Reading metadata...: 11266it [00:00, 13065.80it/s]\n"
          ]
        },
        {
          "output_type": "stream",
          "name": "stdout",
          "text": [
            "nl\n",
            "Mijn toetsenbord zit vol stof.\n",
            "nl\n",
            "En u weet heel goed dat de natuur een hekel heeft aan vacuüms.\n",
            "nl\n",
            "Het probleem wordt nog vaak genegeerd.\n",
            "nl\n",
            "Het gaat niet alleen over economisch rendement.\n",
            "nl\n",
            "Naar mijn oordeel valt er namelijk niet meer zoveel te verbeteren op dit vlak.\n",
            "nl\n",
            "Heb je de tafel gedekt?\n",
            "nl\n",
            "Deze top heeft niet in alle opzichten aan de verwachtingen voldaan.\n",
            "nl\n",
            "De Aboriginals zijn de oorspronkelijke bewoners van Australië.\n",
            "nl\n",
            "Er komt ineens iets in mij op.\n",
            "nl\n",
            "Bij dit voorstel gaat het echter primair om insluiting, niet om een verbod.\n",
            "nl\n",
            "Mevrouw de commissaris, gezondheidszorg mag geen handelswaar zijn.\n",
            "nl\n",
            "Vooral het hoofdstuk over het internet wekt ongerustheid.\n",
            "nl\n",
            "Ik laat nu echter over deze vraag geen verder debat toe!\n",
            "nl\n",
            "De tampons zijn op.\n",
            "nl\n",
            "Juni dit jaar is veel te laat.\n",
            "nl\n",
            "Waar laat jij je onderhoud doen?\n",
            "nl\n",
            "Parket moet je stofzuigen, tegels moet je dweilen.\n",
            "nl\n",
            "Wij verzetten ons tegen deze begrotingsposten.\n",
            "nl\n",
            "De stikstofuitstoot kan dan krachtig worden gereduceerd.\n",
            "nl\n",
            "Het is dus een minimumconsensus.\n",
            "nl\n",
            "Hé\n",
            "nl\n",
            "Proberen wij kooldioxide-emissies te beperken of proberen wij het energiegebruik terug te dringen?\n",
            "nl\n",
            "In onze buurt kent iedereen elkaar.\n",
            "nl\n",
            "Het was baggerweer in Leiden.\n",
            "nl\n",
            "Ik denk dat ik gevolgd word.\n",
            "nl\n",
            "Men moet dus eens ophouden de mensen hierover maar wat wijs te maken.\n",
            "nl\n",
            "Zo niet, dan moet de begroting worden gewijzigd.\n",
            "nl\n",
            "Het verslag staat echter bol van de neoliberale beleidsvoorstellen.\n",
            "nl\n",
            "Dat zou namelijk een kleinere omvang van de vloot betekenen.\n",
            "nl\n",
            "De aarde draait in ongeveer driehonderdvijfenzestig dagen rond de zon.\n",
            "Loaded nl\n"
          ]
        },
        {
          "output_type": "stream",
          "name": "stderr",
          "text": [
            "Reading metadata...: 5259it [00:00, 7109.42it/s]\n"
          ]
        },
        {
          "output_type": "stream",
          "name": "stdout",
          "text": [
            "sv-SE\n",
            "Spring på bara!\n",
            "sv-SE\n",
            "Rummet var nästan helt mörkt.\n",
            "sv-SE\n",
            "Stina måste tänka på Hallings vredesutbrott under månförmörkelsen.\n",
            "sv-SE\n",
            "Vädret skulle bli bättre imorgon.\n",
            "sv-SE\n",
            "Barnet snyftade och skrek och skakade av köld.\n",
            "sv-SE\n",
            "Antikrundan ska komma hit!\n",
            "sv-SE\n",
            "Det är inte politikernas uppgift att skydda gamla affärsmodeller eller uppfinna nya.\n",
            "sv-SE\n",
            "Den neutrala preussiska regeringen förbjöd dock detta.\n",
            "sv-SE\n",
            "Duman har beslutat att upphäva dekretet.\n",
            "sv-SE\n",
            "Säg det fort!\n",
            "sv-SE\n",
            "Kort därpå hade hon dött och så hade olyckorna börjat.\n",
            "sv-SE\n",
            "Antagligen hade han pengar för tillfället.\n",
            "sv-SE\n",
            "Yngve är en man i sina bästa år, tycker han själv åtminstone.\n",
            "sv-SE\n",
            "Utredningen lägger även förslag om inköpsstödet till folk- och skolbibliotek som Kulturrådet handlägger.\n",
            "sv-SE\n",
            "Människorna hade räddat honom för att kunna använda honom som lockfågel.\n",
            "sv-SE\n",
            "Larven var grön och knubbig.\n",
            "sv-SE\n",
            "Det är järnet, som sprakar och fräser, när det lägges under hammaren.\n",
            "sv-SE\n",
            "Den andre skyndade framåt med än större hast.\n",
            "sv-SE\n",
            "Kulturrådet har ansvar för att följa upp kultursamverkansmodellen.\n",
            "sv-SE\n",
            "Till den här kojan hör det största godset i Skåne, era tiggare.\n",
            "sv-SE\n",
            "Inga isbjörnar inspireras i indiska institutioner.\n",
            "sv-SE\n",
            "Dimman var ganska tät och inbjöd till utnyttjande.\n",
            "sv-SE\n",
            "De pissade på min jävla matta.\n",
            "sv-SE\n",
            "Det står även klart att en stor del av verksamheten bedrivs i enskild regi.\n",
            "sv-SE\n",
            "Utan jag tyckte det var bättre att Stava kom ut.\n",
            "sv-SE\n",
            "Men det hör väl till.\n",
            "sv-SE\n",
            "Behovet av kvalitetsuppföljning av sådana förlopp kommer således också att öka.\n",
            "sv-SE\n",
            "Och om de vill, då är marknaden global.\n",
            "sv-SE\n",
            "Fly, så fort ni kan!\n",
            "sv-SE\n",
            "Brödet var nybakt och doftade hemtrivsel och söndagsmorgon.\n",
            "Loaded sv-SE\n"
          ]
        },
        {
          "output_type": "stream",
          "name": "stderr",
          "text": [
            "Reading metadata...: 2530it [00:00, 8198.44it/s]\n"
          ]
        },
        {
          "output_type": "stream",
          "name": "stdout",
          "text": [
            "da\n",
            "Han fik et piskesmæld i bilulykken.\n",
            "da\n",
            "seks\n",
            "da\n",
            "En skjald var der mellem dem.\n",
            "da\n",
            "Vi har dog den ene del!\n",
            "da\n",
            "Stemmer gåseurtennu skal du høre\n",
            "da\n",
            "otte\n",
            "da\n",
            "det er et rart sprog.\n",
            "da\n",
            "Livet er et sælsomt, dejligt eventyr!\n",
            "da\n",
            "nul\n",
            "da\n",
            "ni\n",
            "da\n",
            "Stemmer portnøglenhver nøgle har sin historie og der er mange nøgler\n",
            "da\n",
            "Hun fornægter mig jo\n",
            "da\n",
            "Bælgen voksede og ærterne voksede.\n",
            "da\n",
            "Det sker dog meget sjældent, at sygdomme anerkendes efter denne bestemmelse.\n",
            "da\n",
            "ja\n",
            "da\n",
            "hvad kom der ud af det? - Den lede Unge!\n",
            "da\n",
            "I det samme gik døren op.\n",
            "da\n",
            "Du er en rar fyr til at traske om!\n",
            "da\n",
            "I må vide, at jeg kan ikke tåle at se degne\n",
            "da\n",
            "og det kaldte Storkene ham ogsaa.\n",
            "da\n",
            "Stor digter skal have stor tandpine, lille digter lille tandpine!\n",
            "da\n",
            "fire\n",
            "da\n",
            "Den væsentligste overførselskilde var heteroseksuel kontakt, sådan som kommissæren sagde.\n",
            "da\n",
            "Siger vi mennesker med, og siger det med kendskab og forvisning\n",
            "da\n",
            "nej\n",
            "da\n",
            "Jorden lå dybt nede\n",
            "da\n",
            "fem\n",
            "da\n",
            "Ingen ønsker en hæmningsløs subventionskonkurrence i Europa.\n",
            "da\n",
            "tree\n",
            "da\n",
            "Hvordan vi finder den ene type og undgår den anden\n",
            "Loaded da\n"
          ]
        }
      ],
      "source": [
        "test_audio, test_labels, test_sr = load_test_data(\n",
        "    languages=LANGUAGES,\n",
        "    test_batch=30,\n",
        "    randomOn=True\n",
        ")"
      ]
    },
    {
      "cell_type": "code",
      "execution_count": 38,
      "metadata": {
        "id": "SLPXGt-_yYAB"
      },
      "outputs": [],
      "source": [
        "test_processed = process_batch(test_audio, test_sr, len(test_audio))\n",
        "test_dataset = Wav2Vec2Dataset(test_processed, test_labels)\n",
        "test_loader = DataLoader(test_dataset, batch_size=1, collate_fn=collate_fn, shuffle=True)"
      ]
    },
    {
      "cell_type": "code",
      "execution_count": 39,
      "metadata": {
        "id": "XUaj6nLe172n"
      },
      "outputs": [],
      "source": [
        "# def test_wav2vec2(model, loader, device, criterion):\n",
        "#     model.eval()\n",
        "#     correct = 0\n",
        "#     total = 0\n",
        "\n",
        "#     with torch.no_grad():\n",
        "#         for input_values, attention_mask, labels in loader:\n",
        "#             input_values = input_values.to(device)\n",
        "#             attention_mask = attention_mask.to(device)\n",
        "#             labels = labels.to(device)\n",
        "\n",
        "#             outputs = model(input_values, attention_mask=attention_mask)\n",
        "\n",
        "#             preds = torch.argmax(outputs.logits, dim=1)\n",
        "#             correct += (preds == labels).sum().item()\n",
        "#             total += labels.size(0)\n",
        "\n",
        "#     return correct / total * 100\n",
        "\n",
        "def test_wav2vec2(model, loader, device, criterion):\n",
        "    model.eval()\n",
        "    correct = 0\n",
        "    total = 0\n",
        "    total_loss = 0.0\n",
        "\n",
        "    with torch.no_grad():\n",
        "        for input_values, attention_mask, labels in loader:\n",
        "            input_values = input_values.to(device)\n",
        "            attention_mask = attention_mask.to(device)\n",
        "            labels = labels.to(device)\n",
        "\n",
        "            outputs = model(input_values, attention_mask=attention_mask)\n",
        "\n",
        "            loss = criterion(outputs.logits, labels)\n",
        "            total_loss += loss.item() * labels.size(0)\n",
        "\n",
        "            preds = torch.argmax(outputs.logits, dim=1)\n",
        "            correct += (preds == labels).sum().item()\n",
        "            total += labels.size(0)\n",
        "\n",
        "    return correct / total * 100, total_loss / total"
      ]
    },
    {
      "cell_type": "code",
      "source": [
        "print(model)"
      ],
      "metadata": {
        "colab": {
          "base_uri": "https://localhost:8080/"
        },
        "id": "O39dURH8Il4-",
        "outputId": "c737988f-d855-48df-98ce-020c41751157"
      },
      "execution_count": 52,
      "outputs": [
        {
          "output_type": "stream",
          "name": "stdout",
          "text": [
            "Wav2Vec2ForSequenceClassification(\n",
            "  (wav2vec2): Wav2Vec2Model(\n",
            "    (feature_extractor): Wav2Vec2FeatureEncoder(\n",
            "      (conv_layers): ModuleList(\n",
            "        (0): Wav2Vec2GroupNormConvLayer(\n",
            "          (conv): Conv1d(1, 512, kernel_size=(10,), stride=(5,), bias=False)\n",
            "          (activation): GELUActivation()\n",
            "          (layer_norm): GroupNorm(512, 512, eps=1e-05, affine=True)\n",
            "        )\n",
            "        (1-4): 4 x Wav2Vec2NoLayerNormConvLayer(\n",
            "          (conv): Conv1d(512, 512, kernel_size=(3,), stride=(2,), bias=False)\n",
            "          (activation): GELUActivation()\n",
            "        )\n",
            "        (5-6): 2 x Wav2Vec2NoLayerNormConvLayer(\n",
            "          (conv): Conv1d(512, 512, kernel_size=(2,), stride=(2,), bias=False)\n",
            "          (activation): GELUActivation()\n",
            "        )\n",
            "      )\n",
            "    )\n",
            "    (feature_projection): Wav2Vec2FeatureProjection(\n",
            "      (layer_norm): LayerNorm((512,), eps=1e-05, elementwise_affine=True)\n",
            "      (projection): Linear(in_features=512, out_features=768, bias=True)\n",
            "      (dropout): Dropout(p=0.1, inplace=False)\n",
            "    )\n",
            "    (encoder): Wav2Vec2Encoder(\n",
            "      (pos_conv_embed): Wav2Vec2PositionalConvEmbedding(\n",
            "        (conv): ParametrizedConv1d(\n",
            "          768, 768, kernel_size=(128,), stride=(1,), padding=(64,), groups=16\n",
            "          (parametrizations): ModuleDict(\n",
            "            (weight): ParametrizationList(\n",
            "              (0): _WeightNorm()\n",
            "            )\n",
            "          )\n",
            "        )\n",
            "        (padding): Wav2Vec2SamePadLayer()\n",
            "        (activation): GELUActivation()\n",
            "      )\n",
            "      (layer_norm): LayerNorm((768,), eps=1e-05, elementwise_affine=True)\n",
            "      (dropout): Dropout(p=0.1, inplace=False)\n",
            "      (layers): ModuleList(\n",
            "        (0-11): 12 x Wav2Vec2EncoderLayer(\n",
            "          (attention): Wav2Vec2SdpaAttention(\n",
            "            (k_proj): Linear(in_features=768, out_features=768, bias=True)\n",
            "            (v_proj): Linear(in_features=768, out_features=768, bias=True)\n",
            "            (q_proj): Linear(in_features=768, out_features=768, bias=True)\n",
            "            (out_proj): Linear(in_features=768, out_features=768, bias=True)\n",
            "          )\n",
            "          (dropout): Dropout(p=0.1, inplace=False)\n",
            "          (layer_norm): LayerNorm((768,), eps=1e-05, elementwise_affine=True)\n",
            "          (feed_forward): Wav2Vec2FeedForward(\n",
            "            (intermediate_dropout): Dropout(p=0.1, inplace=False)\n",
            "            (intermediate_dense): Linear(in_features=768, out_features=3072, bias=True)\n",
            "            (intermediate_act_fn): GELUActivation()\n",
            "            (output_dense): Linear(in_features=3072, out_features=768, bias=True)\n",
            "            (output_dropout): Dropout(p=0.1, inplace=False)\n",
            "          )\n",
            "          (final_layer_norm): LayerNorm((768,), eps=1e-05, elementwise_affine=True)\n",
            "        )\n",
            "      )\n",
            "    )\n",
            "  )\n",
            "  (projector): Linear(in_features=768, out_features=256, bias=True)\n",
            "  (classifier): Linear(in_features=256, out_features=5, bias=True)\n",
            ")\n"
          ]
        }
      ]
    },
    {
      "cell_type": "code",
      "source": [
        "device = DEVICE\n",
        "loss_fn = torch.nn.CrossEntropyLoss()\n",
        "model = model.to(device)\n",
        "test_acc, test_loss = test_wav2vec2(model, test_loader, device, loss_fn)\n",
        "print(f'Test Loss: {test_loss:.4f} | Test Acc: {test_acc:.2f}%')"
      ],
      "metadata": {
        "colab": {
          "base_uri": "https://localhost:8080/",
          "height": 356
        },
        "id": "Gzr3ExoV2Xwx",
        "outputId": "4fd2439c-45dd-4f2a-b9d8-92fee81d009e"
      },
      "execution_count": 41,
      "outputs": [
        {
          "output_type": "stream",
          "name": "stdout",
          "text": [
            "<torch.utils.data.dataloader.DataLoader object at 0x7995587e6b10>\n"
          ]
        },
        {
          "output_type": "error",
          "ename": "KeyboardInterrupt",
          "evalue": "",
          "traceback": [
            "\u001b[0;31m---------------------------------------------------------------------------\u001b[0m",
            "\u001b[0;31mKeyboardInterrupt\u001b[0m                         Traceback (most recent call last)",
            "\u001b[0;32m<ipython-input-41-0e703de5e2f7>\u001b[0m in \u001b[0;36m<cell line: 0>\u001b[0;34m()\u001b[0m\n\u001b[1;32m      3\u001b[0m \u001b[0mmodel\u001b[0m \u001b[0;34m=\u001b[0m \u001b[0mmodel\u001b[0m\u001b[0;34m.\u001b[0m\u001b[0mto\u001b[0m\u001b[0;34m(\u001b[0m\u001b[0mdevice\u001b[0m\u001b[0;34m)\u001b[0m\u001b[0;34m\u001b[0m\u001b[0;34m\u001b[0m\u001b[0m\n\u001b[1;32m      4\u001b[0m \u001b[0mprint\u001b[0m\u001b[0;34m(\u001b[0m\u001b[0mtest_loader\u001b[0m\u001b[0;34m)\u001b[0m\u001b[0;34m\u001b[0m\u001b[0;34m\u001b[0m\u001b[0m\n\u001b[0;32m----> 5\u001b[0;31m \u001b[0mtest_acc\u001b[0m\u001b[0;34m,\u001b[0m \u001b[0mtest_loss\u001b[0m \u001b[0;34m=\u001b[0m \u001b[0mtest_wav2vec2\u001b[0m\u001b[0;34m(\u001b[0m\u001b[0mmodel\u001b[0m\u001b[0;34m,\u001b[0m \u001b[0mtest_loader\u001b[0m\u001b[0;34m,\u001b[0m \u001b[0mdevice\u001b[0m\u001b[0;34m,\u001b[0m \u001b[0mloss_fn\u001b[0m\u001b[0;34m)\u001b[0m\u001b[0;34m\u001b[0m\u001b[0;34m\u001b[0m\u001b[0m\n\u001b[0m\u001b[1;32m      6\u001b[0m \u001b[0mprint\u001b[0m\u001b[0;34m(\u001b[0m\u001b[0;34mf'Test Loss: {test_loss:.4f} | Test Acc: {test_acc:.2f}%'\u001b[0m\u001b[0;34m)\u001b[0m\u001b[0;34m\u001b[0m\u001b[0;34m\u001b[0m\u001b[0m\n",
            "\u001b[0;32m<ipython-input-39-5c14874ca5b3>\u001b[0m in \u001b[0;36mtest_wav2vec2\u001b[0;34m(model, loader, device, criterion)\u001b[0m\n\u001b[1;32m     32\u001b[0m             \u001b[0moutputs\u001b[0m \u001b[0;34m=\u001b[0m \u001b[0mmodel\u001b[0m\u001b[0;34m(\u001b[0m\u001b[0minput_values\u001b[0m\u001b[0;34m,\u001b[0m \u001b[0mattention_mask\u001b[0m\u001b[0;34m=\u001b[0m\u001b[0mattention_mask\u001b[0m\u001b[0;34m)\u001b[0m\u001b[0;34m\u001b[0m\u001b[0;34m\u001b[0m\u001b[0m\n\u001b[1;32m     33\u001b[0m \u001b[0;34m\u001b[0m\u001b[0m\n\u001b[0;32m---> 34\u001b[0;31m             \u001b[0mloss\u001b[0m \u001b[0;34m=\u001b[0m \u001b[0mcriterion\u001b[0m\u001b[0;34m(\u001b[0m\u001b[0moutputs\u001b[0m\u001b[0;34m.\u001b[0m\u001b[0mlogits\u001b[0m\u001b[0;34m,\u001b[0m \u001b[0mlabels\u001b[0m\u001b[0;34m)\u001b[0m\u001b[0;34m\u001b[0m\u001b[0;34m\u001b[0m\u001b[0m\n\u001b[0m\u001b[1;32m     35\u001b[0m             \u001b[0mtotal_loss\u001b[0m \u001b[0;34m+=\u001b[0m \u001b[0mloss\u001b[0m\u001b[0;34m.\u001b[0m\u001b[0mitem\u001b[0m\u001b[0;34m(\u001b[0m\u001b[0;34m)\u001b[0m \u001b[0;34m*\u001b[0m \u001b[0mlabels\u001b[0m\u001b[0;34m.\u001b[0m\u001b[0msize\u001b[0m\u001b[0;34m(\u001b[0m\u001b[0;36m0\u001b[0m\u001b[0;34m)\u001b[0m\u001b[0;34m\u001b[0m\u001b[0;34m\u001b[0m\u001b[0m\n\u001b[1;32m     36\u001b[0m \u001b[0;34m\u001b[0m\u001b[0m\n",
            "\u001b[0;32m/usr/local/lib/python3.11/dist-packages/torch/nn/modules/module.py\u001b[0m in \u001b[0;36m_wrapped_call_impl\u001b[0;34m(self, *args, **kwargs)\u001b[0m\n\u001b[1;32m   1737\u001b[0m             \u001b[0;32mreturn\u001b[0m \u001b[0mself\u001b[0m\u001b[0;34m.\u001b[0m\u001b[0m_compiled_call_impl\u001b[0m\u001b[0;34m(\u001b[0m\u001b[0;34m*\u001b[0m\u001b[0margs\u001b[0m\u001b[0;34m,\u001b[0m \u001b[0;34m**\u001b[0m\u001b[0mkwargs\u001b[0m\u001b[0;34m)\u001b[0m  \u001b[0;31m# type: ignore[misc]\u001b[0m\u001b[0;34m\u001b[0m\u001b[0;34m\u001b[0m\u001b[0m\n\u001b[1;32m   1738\u001b[0m         \u001b[0;32melse\u001b[0m\u001b[0;34m:\u001b[0m\u001b[0;34m\u001b[0m\u001b[0;34m\u001b[0m\u001b[0m\n\u001b[0;32m-> 1739\u001b[0;31m             \u001b[0;32mreturn\u001b[0m \u001b[0mself\u001b[0m\u001b[0;34m.\u001b[0m\u001b[0m_call_impl\u001b[0m\u001b[0;34m(\u001b[0m\u001b[0;34m*\u001b[0m\u001b[0margs\u001b[0m\u001b[0;34m,\u001b[0m \u001b[0;34m**\u001b[0m\u001b[0mkwargs\u001b[0m\u001b[0;34m)\u001b[0m\u001b[0;34m\u001b[0m\u001b[0;34m\u001b[0m\u001b[0m\n\u001b[0m\u001b[1;32m   1740\u001b[0m \u001b[0;34m\u001b[0m\u001b[0m\n\u001b[1;32m   1741\u001b[0m     \u001b[0;31m# torchrec tests the code consistency with the following code\u001b[0m\u001b[0;34m\u001b[0m\u001b[0;34m\u001b[0m\u001b[0m\n",
            "\u001b[0;32m/usr/local/lib/python3.11/dist-packages/torch/nn/modules/module.py\u001b[0m in \u001b[0;36m_call_impl\u001b[0;34m(self, *args, **kwargs)\u001b[0m\n\u001b[1;32m   1748\u001b[0m                 \u001b[0;32mor\u001b[0m \u001b[0m_global_backward_pre_hooks\u001b[0m \u001b[0;32mor\u001b[0m \u001b[0m_global_backward_hooks\u001b[0m\u001b[0;34m\u001b[0m\u001b[0;34m\u001b[0m\u001b[0m\n\u001b[1;32m   1749\u001b[0m                 or _global_forward_hooks or _global_forward_pre_hooks):\n\u001b[0;32m-> 1750\u001b[0;31m             \u001b[0;32mreturn\u001b[0m \u001b[0mforward_call\u001b[0m\u001b[0;34m(\u001b[0m\u001b[0;34m*\u001b[0m\u001b[0margs\u001b[0m\u001b[0;34m,\u001b[0m \u001b[0;34m**\u001b[0m\u001b[0mkwargs\u001b[0m\u001b[0;34m)\u001b[0m\u001b[0;34m\u001b[0m\u001b[0;34m\u001b[0m\u001b[0m\n\u001b[0m\u001b[1;32m   1751\u001b[0m \u001b[0;34m\u001b[0m\u001b[0m\n\u001b[1;32m   1752\u001b[0m         \u001b[0mresult\u001b[0m \u001b[0;34m=\u001b[0m \u001b[0;32mNone\u001b[0m\u001b[0;34m\u001b[0m\u001b[0;34m\u001b[0m\u001b[0m\n",
            "\u001b[0;32m/usr/local/lib/python3.11/dist-packages/torch/nn/modules/loss.py\u001b[0m in \u001b[0;36mforward\u001b[0;34m(self, input, target)\u001b[0m\n\u001b[1;32m   1293\u001b[0m \u001b[0;34m\u001b[0m\u001b[0m\n\u001b[1;32m   1294\u001b[0m     \u001b[0;32mdef\u001b[0m \u001b[0mforward\u001b[0m\u001b[0;34m(\u001b[0m\u001b[0mself\u001b[0m\u001b[0;34m,\u001b[0m \u001b[0minput\u001b[0m\u001b[0;34m:\u001b[0m \u001b[0mTensor\u001b[0m\u001b[0;34m,\u001b[0m \u001b[0mtarget\u001b[0m\u001b[0;34m:\u001b[0m \u001b[0mTensor\u001b[0m\u001b[0;34m)\u001b[0m \u001b[0;34m->\u001b[0m \u001b[0mTensor\u001b[0m\u001b[0;34m:\u001b[0m\u001b[0;34m\u001b[0m\u001b[0;34m\u001b[0m\u001b[0m\n\u001b[0;32m-> 1295\u001b[0;31m         return F.cross_entropy(\n\u001b[0m\u001b[1;32m   1296\u001b[0m             \u001b[0minput\u001b[0m\u001b[0;34m,\u001b[0m\u001b[0;34m\u001b[0m\u001b[0;34m\u001b[0m\u001b[0m\n\u001b[1;32m   1297\u001b[0m             \u001b[0mtarget\u001b[0m\u001b[0;34m,\u001b[0m\u001b[0;34m\u001b[0m\u001b[0;34m\u001b[0m\u001b[0m\n",
            "\u001b[0;32m/usr/local/lib/python3.11/dist-packages/torch/nn/functional.py\u001b[0m in \u001b[0;36mcross_entropy\u001b[0;34m(input, target, weight, size_average, ignore_index, reduce, reduction, label_smoothing)\u001b[0m\n\u001b[1;32m   3492\u001b[0m     \u001b[0;32mif\u001b[0m \u001b[0msize_average\u001b[0m \u001b[0;32mis\u001b[0m \u001b[0;32mnot\u001b[0m \u001b[0;32mNone\u001b[0m \u001b[0;32mor\u001b[0m \u001b[0mreduce\u001b[0m \u001b[0;32mis\u001b[0m \u001b[0;32mnot\u001b[0m \u001b[0;32mNone\u001b[0m\u001b[0;34m:\u001b[0m\u001b[0;34m\u001b[0m\u001b[0;34m\u001b[0m\u001b[0m\n\u001b[1;32m   3493\u001b[0m         \u001b[0mreduction\u001b[0m \u001b[0;34m=\u001b[0m \u001b[0m_Reduction\u001b[0m\u001b[0;34m.\u001b[0m\u001b[0mlegacy_get_string\u001b[0m\u001b[0;34m(\u001b[0m\u001b[0msize_average\u001b[0m\u001b[0;34m,\u001b[0m \u001b[0mreduce\u001b[0m\u001b[0;34m)\u001b[0m\u001b[0;34m\u001b[0m\u001b[0;34m\u001b[0m\u001b[0m\n\u001b[0;32m-> 3494\u001b[0;31m     return torch._C._nn.cross_entropy_loss(\n\u001b[0m\u001b[1;32m   3495\u001b[0m         \u001b[0minput\u001b[0m\u001b[0;34m,\u001b[0m\u001b[0;34m\u001b[0m\u001b[0;34m\u001b[0m\u001b[0m\n\u001b[1;32m   3496\u001b[0m         \u001b[0mtarget\u001b[0m\u001b[0;34m,\u001b[0m\u001b[0;34m\u001b[0m\u001b[0;34m\u001b[0m\u001b[0m\n",
            "\u001b[0;31mKeyboardInterrupt\u001b[0m: "
          ]
        }
      ]
    },
    {
      "cell_type": "code",
      "source": [
        "import matplotlib.pyplot as plt\n",
        "import numpy as np\n",
        "\n",
        "epochs = np.arange(1, 11, 1)\n",
        "\n",
        "train_loss = [1.4810, 1.0619, 0.7017, 0.4460, 0.2757, 0.2038, 0.1431, 0.0629, 0.0478, 0.0425]\n",
        "val_loss   = [1.4017, 1.2176, 0.9138, 0.8029, 0.6698, 0.5969, 1.0377, 0.6948, 0.8825, 0.7030]\n",
        "\n",
        "train_acc = [0.4058, 0.5474, 0.7307, 0.8326, 0.9037, 0.9311, 0.9504, 0.9813, 0.9864, 0.9883]\n",
        "val_acc   = [0.4080, 0.5340, 0.6887, 0.7543, 0.8153, 0.8307, 0.7677, 0.8460, 0.8180, 0.8490]\n",
        "\n",
        "plt.figure(figsize=(12, 5))\n",
        "\n",
        "plt.subplot(1, 2, 1)\n",
        "plt.plot(epochs, train_loss, 'o-', label='Train Loss')\n",
        "plt.plot(epochs, val_loss, 'o-', label='Val Loss')\n",
        "plt.xlabel(\"Epoch\")\n",
        "plt.ylabel(\"Loss\")\n",
        "plt.title(\"Loss vs. Epoch\")\n",
        "plt.legend()\n",
        "plt.grid(True)\n",
        "\n",
        "plt.subplot(1, 2, 2)\n",
        "plt.plot(epochs, train_acc, 'o-', label='Train Acc')\n",
        "plt.plot(epochs, val_acc, 'o-', label='Val Acc')\n",
        "plt.xlabel(\"Epoch\")\n",
        "plt.ylabel(\"Accuracy\")\n",
        "plt.title(\"Accuracy vs. Epoch\")\n",
        "plt.legend()\n",
        "plt.grid(True)\n",
        "\n",
        "plt.tight_layout()\n",
        "plt.show()"
      ],
      "metadata": {
        "colab": {
          "base_uri": "https://localhost:8080/",
          "height": 507
        },
        "id": "1kVHeMdSEpag",
        "outputId": "845295ce-22b2-4794-823e-156aa8cbb951"
      },
      "execution_count": 51,
      "outputs": [
        {
          "output_type": "display_data",
          "data": {
            "text/plain": [
              "<Figure size 1200x500 with 2 Axes>"
            ],
            "image/png": "[encoded data removed]"
          },
          "metadata": {}
        }
      ]
    }
  ],
  "metadata": {
    "colab": {
      "machine_shape": "hm",
      "provenance": []
    },
    "kernelspec": {
      "display_name": "Python 3",
      "name": "python3"
    },
    "language_info": {
      "name": "python"
    },
    "widgets": {
      "application/vnd.jupyter.widget-state+json": {
        "409b8f82fbc146b5bece2444c5934f6c": {
          "model_module": "@jupyter-widgets/controls",
          "model_name": "HBoxModel",
          "model_module_version": "1.5.0",
          "state": {
            "_dom_classes": [],
            "_model_module": "@jupyter-widgets/controls",
            "_model_module_version": "1.5.0",
            "_model_name": "HBoxModel",
            "_view_count": null,
            "_view_module": "@jupyter-widgets/controls",
            "_view_module_version": "1.5.0",
            "_view_name": "HBoxView",
            "box_style": "",
            "children": [
              "IPY_MODEL_dfeda70b02494865b3fc84a8084f1f28",
              "IPY_MODEL_0ffb4a9a8f6e40188e6d44f94e9aa086",
              "IPY_MODEL_19bdd7c8099b4ece81a460c12981f06c"
            ],
            "layout": "IPY_MODEL_c90bbae1a9f449c39a43ff4ee689faf7"
          }
        },
        "dfeda70b02494865b3fc84a8084f1f28": {
          "model_module": "@jupyter-widgets/controls",
          "model_name": "HTMLModel",
          "model_module_version": "1.5.0",
          "state": {
            "_dom_classes": [],
            "_model_module": "@jupyter-widgets/controls",
            "_model_module_version": "1.5.0",
            "_model_name": "HTMLModel",
            "_view_count": null,
            "_view_module": "@jupyter-widgets/controls",
            "_view_module_version": "1.5.0",
            "_view_name": "HTMLView",
            "description": "",
            "description_tooltip": null,
            "layout": "IPY_MODEL_ae82979f00e04d3b8be3bb94a0e96056",
            "placeholder": "​",
            "style": "IPY_MODEL_4b12a7cbd5bd4bbd854b36a4954add51",
            "value": "config.json: 100%"
          }
        },
        "0ffb4a9a8f6e40188e6d44f94e9aa086": {
          "model_module": "@jupyter-widgets/controls",
          "model_name": "FloatProgressModel",
          "model_module_version": "1.5.0",
          "state": {
            "_dom_classes": [],
            "_model_module": "@jupyter-widgets/controls",
            "_model_module_version": "1.5.0",
            "_model_name": "FloatProgressModel",
            "_view_count": null,
            "_view_module": "@jupyter-widgets/controls",
            "_view_module_version": "1.5.0",
            "_view_name": "ProgressView",
            "bar_style": "success",
            "description": "",
            "description_tooltip": null,
            "layout": "IPY_MODEL_1defec7c4370412484264edd2276e886",
            "max": 1596,
            "min": 0,
            "orientation": "horizontal",
            "style": "IPY_MODEL_b9fdc5f04a6d4f0b9331008c1f842543",
            "value": 1596
          }
        },
        "19bdd7c8099b4ece81a460c12981f06c": {
          "model_module": "@jupyter-widgets/controls",
          "model_name": "HTMLModel",
          "model_module_version": "1.5.0",
          "state": {
            "_dom_classes": [],
            "_model_module": "@jupyter-widgets/controls",
            "_model_module_version": "1.5.0",
            "_model_name": "HTMLModel",
            "_view_count": null,
            "_view_module": "@jupyter-widgets/controls",
            "_view_module_version": "1.5.0",
            "_view_name": "HTMLView",
            "description": "",
            "description_tooltip": null,
            "layout": "IPY_MODEL_d06f9ab8213e49799e99d9a6fa9ae9d0",
            "placeholder": "​",
            "style": "IPY_MODEL_3125dd5a81154888beb96cca0b3f4d48",
            "value": " 1.60k/1.60k [00:00&lt;00:00, 194kB/s]"
          }
        },
        "c90bbae1a9f449c39a43ff4ee689faf7": {
          "model_module": "@jupyter-widgets/base",
          "model_name": "LayoutModel",
          "model_module_version": "1.2.0",
          "state": {
            "_model_module": "@jupyter-widgets/base",
            "_model_module_version": "1.2.0",
            "_model_name": "LayoutModel",
            "_view_count": null,
            "_view_module": "@jupyter-widgets/base",
            "_view_module_version": "1.2.0",
            "_view_name": "LayoutView",
            "align_content": null,
            "align_items": null,
            "align_self": null,
            "border": null,
            "bottom": null,
            "display": null,
            "flex": null,
            "flex_flow": null,
            "grid_area": null,
            "grid_auto_columns": null,
            "grid_auto_flow": null,
            "grid_auto_rows": null,
            "grid_column": null,
            "grid_gap": null,
            "grid_row": null,
            "grid_template_areas": null,
            "grid_template_columns": null,
            "grid_template_rows": null,
            "height": null,
            "justify_content": null,
            "justify_items": null,
            "left": null,
            "margin": null,
            "max_height": null,
            "max_width": null,
            "min_height": null,
            "min_width": null,
            "object_fit": null,
            "object_position": null,
            "order": null,
            "overflow": null,
            "overflow_x": null,
            "overflow_y": null,
            "padding": null,
            "right": null,
            "top": null,
            "visibility": null,
            "width": null
          }
        },
        "ae82979f00e04d3b8be3bb94a0e96056": {
          "model_module": "@jupyter-widgets/base",
          "model_name": "LayoutModel",
          "model_module_version": "1.2.0",
          "state": {
            "_model_module": "@jupyter-widgets/base",
            "_model_module_version": "1.2.0",
            "_model_name": "LayoutModel",
            "_view_count": null,
            "_view_module": "@jupyter-widgets/base",
            "_view_module_version": "1.2.0",
            "_view_name": "LayoutView",
            "align_content": null,
            "align_items": null,
            "align_self": null,
            "border": null,
            "bottom": null,
            "display": null,
            "flex": null,
            "flex_flow": null,
            "grid_area": null,
            "grid_auto_columns": null,
            "grid_auto_flow": null,
            "grid_auto_rows": null,
            "grid_column": null,
            "grid_gap": null,
            "grid_row": null,
            "grid_template_areas": null,
            "grid_template_columns": null,
            "grid_template_rows": null,
            "height": null,
            "justify_content": null,
            "justify_items": null,
            "left": null,
            "margin": null,
            "max_height": null,
            "max_width": null,
            "min_height": null,
            "min_width": null,
            "object_fit": null,
            "object_position": null,
            "order": null,
            "overflow": null,
            "overflow_x": null,
            "overflow_y": null,
            "padding": null,
            "right": null,
            "top": null,
            "visibility": null,
            "width": null
          }
        },
        "4b12a7cbd5bd4bbd854b36a4954add51": {
          "model_module": "@jupyter-widgets/controls",
          "model_name": "DescriptionStyleModel",
          "model_module_version": "1.5.0",
          "state": {
            "_model_module": "@jupyter-widgets/controls",
            "_model_module_version": "1.5.0",
            "_model_name": "DescriptionStyleModel",
            "_view_count": null,
            "_view_module": "@jupyter-widgets/base",
            "_view_module_version": "1.2.0",
            "_view_name": "StyleView",
            "description_width": ""
          }
        },
        "1defec7c4370412484264edd2276e886": {
          "model_module": "@jupyter-widgets/base",
          "model_name": "LayoutModel",
          "model_module_version": "1.2.0",
          "state": {
            "_model_module": "@jupyter-widgets/base",
            "_model_module_version": "1.2.0",
            "_model_name": "LayoutModel",
            "_view_count": null,
            "_view_module": "@jupyter-widgets/base",
            "_view_module_version": "1.2.0",
            "_view_name": "LayoutView",
            "align_content": null,
            "align_items": null,
            "align_self": null,
            "border": null,
            "bottom": null,
            "display": null,
            "flex": null,
            "flex_flow": null,
            "grid_area": null,
            "grid_auto_columns": null,
            "grid_auto_flow": null,
            "grid_auto_rows": null,
            "grid_column": null,
            "grid_gap": null,
            "grid_row": null,
            "grid_template_areas": null,
            "grid_template_columns": null,
            "grid_template_rows": null,
            "height": null,
            "justify_content": null,
            "justify_items": null,
            "left": null,
            "margin": null,
            "max_height": null,
            "max_width": null,
            "min_height": null,
            "min_width": null,
            "object_fit": null,
            "object_position": null,
            "order": null,
            "overflow": null,
            "overflow_x": null,
            "overflow_y": null,
            "padding": null,
            "right": null,
            "top": null,
            "visibility": null,
            "width": null
          }
        },
        "b9fdc5f04a6d4f0b9331008c1f842543": {
          "model_module": "@jupyter-widgets/controls",
          "model_name": "ProgressStyleModel",
          "model_module_version": "1.5.0",
          "state": {
            "_model_module": "@jupyter-widgets/controls",
            "_model_module_version": "1.5.0",
            "_model_name": "ProgressStyleModel",
            "_view_count": null,
            "_view_module": "@jupyter-widgets/base",
            "_view_module_version": "1.2.0",
            "_view_name": "StyleView",
            "bar_color": null,
            "description_width": ""
          }
        },
        "d06f9ab8213e49799e99d9a6fa9ae9d0": {
          "model_module": "@jupyter-widgets/base",
          "model_name": "LayoutModel",
          "model_module_version": "1.2.0",
          "state": {
            "_model_module": "@jupyter-widgets/base",
            "_model_module_version": "1.2.0",
            "_model_name": "LayoutModel",
            "_view_count": null,
            "_view_module": "@jupyter-widgets/base",
            "_view_module_version": "1.2.0",
            "_view_name": "LayoutView",
            "align_content": null,
            "align_items": null,
            "align_self": null,
            "border": null,
            "bottom": null,
            "display": null,
            "flex": null,
            "flex_flow": null,
            "grid_area": null,
            "grid_auto_columns": null,
            "grid_auto_flow": null,
            "grid_auto_rows": null,
            "grid_column": null,
            "grid_gap": null,
            "grid_row": null,
            "grid_template_areas": null,
            "grid_template_columns": null,
            "grid_template_rows": null,
            "height": null,
            "justify_content": null,
            "justify_items": null,
            "left": null,
            "margin": null,
            "max_height": null,
            "max_width": null,
            "min_height": null,
            "min_width": null,
            "object_fit": null,
            "object_position": null,
            "order": null,
            "overflow": null,
            "overflow_x": null,
            "overflow_y": null,
            "padding": null,
            "right": null,
            "top": null,
            "visibility": null,
            "width": null
          }
        },
        "3125dd5a81154888beb96cca0b3f4d48": {
          "model_module": "@jupyter-widgets/controls",
          "model_name": "DescriptionStyleModel",
          "model_module_version": "1.5.0",
          "state": {
            "_model_module": "@jupyter-widgets/controls",
            "_model_module_version": "1.5.0",
            "_model_name": "DescriptionStyleModel",
            "_view_count": null,
            "_view_module": "@jupyter-widgets/base",
            "_view_module_version": "1.2.0",
            "_view_name": "StyleView",
            "description_width": ""
          }
        },
        "cc91dd8714ea4b7fb69418327501dcf6": {
          "model_module": "@jupyter-widgets/controls",
          "model_name": "HBoxModel",
          "model_module_version": "1.5.0",
          "state": {
            "_dom_classes": [],
            "_model_module": "@jupyter-widgets/controls",
            "_model_module_version": "1.5.0",
            "_model_name": "HBoxModel",
            "_view_count": null,
            "_view_module": "@jupyter-widgets/controls",
            "_view_module_version": "1.5.0",
            "_view_name": "HBoxView",
            "box_style": "",
            "children": [
              "IPY_MODEL_2a63c3f058b34bcb80b94b65fc33b6a3",
              "IPY_MODEL_13e7f9d39bd44275834c0d30fcf41b85",
              "IPY_MODEL_e521c3f1f002422b83fa2e8fd5034205"
            ],
            "layout": "IPY_MODEL_e21d43e5b32e47a98f2e8d4a30692f26"
          }
        },
        "2a63c3f058b34bcb80b94b65fc33b6a3": {
          "model_module": "@jupyter-widgets/controls",
          "model_name": "HTMLModel",
          "model_module_version": "1.5.0",
          "state": {
            "_dom_classes": [],
            "_model_module": "@jupyter-widgets/controls",
            "_model_module_version": "1.5.0",
            "_model_name": "HTMLModel",
            "_view_count": null,
            "_view_module": "@jupyter-widgets/controls",
            "_view_module_version": "1.5.0",
            "_view_name": "HTMLView",
            "description": "",
            "description_tooltip": null,
            "layout": "IPY_MODEL_4efa11d087c249c887026fe816007707",
            "placeholder": "​",
            "style": "IPY_MODEL_621d2fb3488f40ffb395c5f144a878fb",
            "value": "model.safetensors: 100%"
          }
        },
        "13e7f9d39bd44275834c0d30fcf41b85": {
          "model_module": "@jupyter-widgets/controls",
          "model_name": "FloatProgressModel",
          "model_module_version": "1.5.0",
          "state": {
            "_dom_classes": [],
            "_model_module": "@jupyter-widgets/controls",
            "_model_module_version": "1.5.0",
            "_model_name": "FloatProgressModel",
            "_view_count": null,
            "_view_module": "@jupyter-widgets/controls",
            "_view_module_version": "1.5.0",
            "_view_name": "ProgressView",
            "bar_style": "success",
            "description": "",
            "description_tooltip": null,
            "layout": "IPY_MODEL_2bc8bfd93af04a94a9b143d54ff7ffb1",
            "max": 377607901,
            "min": 0,
            "orientation": "horizontal",
            "style": "IPY_MODEL_b9748ea7f13545de83291c1f8aa20f6a",
            "value": 377607901
          }
        },
        "e521c3f1f002422b83fa2e8fd5034205": {
          "model_module": "@jupyter-widgets/controls",
          "model_name": "HTMLModel",
          "model_module_version": "1.5.0",
          "state": {
            "_dom_classes": [],
            "_model_module": "@jupyter-widgets/controls",
            "_model_module_version": "1.5.0",
            "_model_name": "HTMLModel",
            "_view_count": null,
            "_view_module": "@jupyter-widgets/controls",
            "_view_module_version": "1.5.0",
            "_view_name": "HTMLView",
            "description": "",
            "description_tooltip": null,
            "layout": "IPY_MODEL_9d5e1ae3ca8c433ca0a4247f0e3a1889",
            "placeholder": "​",
            "style": "IPY_MODEL_04e8c824914449ef962f3d37c8723083",
            "value": " 378M/378M [00:00&lt;00:00, 523MB/s]"
          }
        },
        "e21d43e5b32e47a98f2e8d4a30692f26": {
          "model_module": "@jupyter-widgets/base",
          "model_name": "LayoutModel",
          "model_module_version": "1.2.0",
          "state": {
            "_model_module": "@jupyter-widgets/base",
            "_model_module_version": "1.2.0",
            "_model_name": "LayoutModel",
            "_view_count": null,
            "_view_module": "@jupyter-widgets/base",
            "_view_module_version": "1.2.0",
            "_view_name": "LayoutView",
            "align_content": null,
            "align_items": null,
            "align_self": null,
            "border": null,
            "bottom": null,
            "display": null,
            "flex": null,
            "flex_flow": null,
            "grid_area": null,
            "grid_auto_columns": null,
            "grid_auto_flow": null,
            "grid_auto_rows": null,
            "grid_column": null,
            "grid_gap": null,
            "grid_row": null,
            "grid_template_areas": null,
            "grid_template_columns": null,
            "grid_template_rows": null,
            "height": null,
            "justify_content": null,
            "justify_items": null,
            "left": null,
            "margin": null,
            "max_height": null,
            "max_width": null,
            "min_height": null,
            "min_width": null,
            "object_fit": null,
            "object_position": null,
            "order": null,
            "overflow": null,
            "overflow_x": null,
            "overflow_y": null,
            "padding": null,
            "right": null,
            "top": null,
            "visibility": null,
            "width": null
          }
        },
        "4efa11d087c249c887026fe816007707": {
          "model_module": "@jupyter-widgets/base",
          "model_name": "LayoutModel",
          "model_module_version": "1.2.0",
          "state": {
            "_model_module": "@jupyter-widgets/base",
            "_model_module_version": "1.2.0",
            "_model_name": "LayoutModel",
            "_view_count": null,
            "_view_module": "@jupyter-widgets/base",
            "_view_module_version": "1.2.0",
            "_view_name": "LayoutView",
            "align_content": null,
            "align_items": null,
            "align_self": null,
            "border": null,
            "bottom": null,
            "display": null,
            "flex": null,
            "flex_flow": null,
            "grid_area": null,
            "grid_auto_columns": null,
            "grid_auto_flow": null,
            "grid_auto_rows": null,
            "grid_column": null,
            "grid_gap": null,
            "grid_row": null,
            "grid_template_areas": null,
            "grid_template_columns": null,
            "grid_template_rows": null,
            "height": null,
            "justify_content": null,
            "justify_items": null,
            "left": null,
            "margin": null,
            "max_height": null,
            "max_width": null,
            "min_height": null,
            "min_width": null,
            "object_fit": null,
            "object_position": null,
            "order": null,
            "overflow": null,
            "overflow_x": null,
            "overflow_y": null,
            "padding": null,
            "right": null,
            "top": null,
            "visibility": null,
            "width": null
          }
        },
        "621d2fb3488f40ffb395c5f144a878fb": {
          "model_module": "@jupyter-widgets/controls",
          "model_name": "DescriptionStyleModel",
          "model_module_version": "1.5.0",
          "state": {
            "_model_module": "@jupyter-widgets/controls",
            "_model_module_version": "1.5.0",
            "_model_name": "DescriptionStyleModel",
            "_view_count": null,
            "_view_module": "@jupyter-widgets/base",
            "_view_module_version": "1.2.0",
            "_view_name": "StyleView",
            "description_width": ""
          }
        },
        "2bc8bfd93af04a94a9b143d54ff7ffb1": {
          "model_module": "@jupyter-widgets/base",
          "model_name": "LayoutModel",
          "model_module_version": "1.2.0",
          "state": {
            "_model_module": "@jupyter-widgets/base",
            "_model_module_version": "1.2.0",
            "_model_name": "LayoutModel",
            "_view_count": null,
            "_view_module": "@jupyter-widgets/base",
            "_view_module_version": "1.2.0",
            "_view_name": "LayoutView",
            "align_content": null,
            "align_items": null,
            "align_self": null,
            "border": null,
            "bottom": null,
            "display": null,
            "flex": null,
            "flex_flow": null,
            "grid_area": null,
            "grid_auto_columns": null,
            "grid_auto_flow": null,
            "grid_auto_rows": null,
            "grid_column": null,
            "grid_gap": null,
            "grid_row": null,
            "grid_template_areas": null,
            "grid_template_columns": null,
            "grid_template_rows": null,
            "height": null,
            "justify_content": null,
            "justify_items": null,
            "left": null,
            "margin": null,
            "max_height": null,
            "max_width": null,
            "min_height": null,
            "min_width": null,
            "object_fit": null,
            "object_position": null,
            "order": null,
            "overflow": null,
            "overflow_x": null,
            "overflow_y": null,
            "padding": null,
            "right": null,
            "top": null,
            "visibility": null,
            "width": null
          }
        },
        "b9748ea7f13545de83291c1f8aa20f6a": {
          "model_module": "@jupyter-widgets/controls",
          "model_name": "ProgressStyleModel",
          "model_module_version": "1.5.0",
          "state": {
            "_model_module": "@jupyter-widgets/controls",
            "_model_module_version": "1.5.0",
            "_model_name": "ProgressStyleModel",
            "_view_count": null,
            "_view_module": "@jupyter-widgets/base",
            "_view_module_version": "1.2.0",
            "_view_name": "StyleView",
            "bar_color": null,
            "description_width": ""
          }
        },
        "9d5e1ae3ca8c433ca0a4247f0e3a1889": {
          "model_module": "@jupyter-widgets/base",
          "model_name": "LayoutModel",
          "model_module_version": "1.2.0",
          "state": {
            "_model_module": "@jupyter-widgets/base",
            "_model_module_version": "1.2.0",
            "_model_name": "LayoutModel",
            "_view_count": null,
            "_view_module": "@jupyter-widgets/base",
            "_view_module_version": "1.2.0",
            "_view_name": "LayoutView",
            "align_content": null,
            "align_items": null,
            "align_self": null,
            "border": null,
            "bottom": null,
            "display": null,
            "flex": null,
            "flex_flow": null,
            "grid_area": null,
            "grid_auto_columns": null,
            "grid_auto_flow": null,
            "grid_auto_rows": null,
            "grid_column": null,
            "grid_gap": null,
            "grid_row": null,
            "grid_template_areas": null,
            "grid_template_columns": null,
            "grid_template_rows": null,
            "height": null,
            "justify_content": null,
            "justify_items": null,
            "left": null,
            "margin": null,
            "max_height": null,
            "max_width": null,
            "min_height": null,
            "min_width": null,
            "object_fit": null,
            "object_position": null,
            "order": null,
            "overflow": null,
            "overflow_x": null,
            "overflow_y": null,
            "padding": null,
            "right": null,
            "top": null,
            "visibility": null,
            "width": null
          }
        },
        "04e8c824914449ef962f3d37c8723083": {
          "model_module": "@jupyter-widgets/controls",
          "model_name": "DescriptionStyleModel",
          "model_module_version": "1.5.0",
          "state": {
            "_model_module": "@jupyter-widgets/controls",
            "_model_module_version": "1.5.0",
            "_model_name": "DescriptionStyleModel",
            "_view_count": null,
            "_view_module": "@jupyter-widgets/base",
            "_view_module_version": "1.2.0",
            "_view_name": "StyleView",
            "description_width": ""
          }
        }
      }
    }
  },
  "nbformat": 4,
  "nbformat_minor": 0
}