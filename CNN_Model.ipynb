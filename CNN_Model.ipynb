{
  "cells": [
    {
      "cell_type": "markdown",
      "metadata": {
        "id": "KibS8wPkZyl5"
      },
      "source": [
        "# Imports and Constants"
      ]
    },
    {
      "cell_type": "markdown",
      "metadata": {
        "id": "lseH8HE5Us81"
      },
      "source": [
        "### Data Loading"
      ]
    },
    {
      "cell_type": "code",
      "execution_count": 2,
      "metadata": {
        "colab": {
          "base_uri": "https://localhost:8080/"
        },
        "collapsed": true,
        "id": "VGyMibX7aLvk",
        "outputId": "20d312fc-7b7c-4f71-86f4-4f7592af469b"
      },
      "outputs": [
        {
          "name": "stdout",
          "output_type": "stream",
          "text": [
            "Requirement already satisfied: datasets in /usr/local/lib/python3.11/dist-packages (3.3.2)\n",
            "Requirement already satisfied: filelock in /usr/local/lib/python3.11/dist-packages (from datasets) (3.17.0)\n",
            "Requirement already satisfied: numpy>=1.17 in /usr/local/lib/python3.11/dist-packages (from datasets) (1.26.4)\n",
            "Requirement already satisfied: pyarrow>=15.0.0 in /usr/local/lib/python3.11/dist-packages (from datasets) (19.0.1)\n",
            "Requirement already satisfied: dill<0.3.9,>=0.3.0 in /usr/local/lib/python3.11/dist-packages (from datasets) (0.3.8)\n",
            "Requirement already satisfied: pandas in /usr/local/lib/python3.11/dist-packages (from datasets) (2.2.2)\n",
            "Requirement already satisfied: requests>=2.32.2 in /usr/local/lib/python3.11/dist-packages (from datasets) (2.32.3)\n",
            "Requirement already satisfied: tqdm>=4.66.3 in /usr/local/lib/python3.11/dist-packages (from datasets) (4.67.1)\n",
            "Requirement already satisfied: xxhash in /usr/local/lib/python3.11/dist-packages (from datasets) (3.5.0)\n",
            "Requirement already satisfied: multiprocess<0.70.17 in /usr/local/lib/python3.11/dist-packages (from datasets) (0.70.16)\n",
            "Requirement already satisfied: fsspec<=2024.12.0,>=2023.1.0 in /usr/local/lib/python3.11/dist-packages (from fsspec[http]<=2024.12.0,>=2023.1.0->datasets) (2024.12.0)\n",
            "Requirement already satisfied: aiohttp in /usr/local/lib/python3.11/dist-packages (from datasets) (3.11.13)\n",
            "Requirement already satisfied: huggingface-hub>=0.24.0 in /usr/local/lib/python3.11/dist-packages (from datasets) (0.28.1)\n",
            "Requirement already satisfied: packaging in /usr/local/lib/python3.11/dist-packages (from datasets) (24.2)\n",
            "Requirement already satisfied: pyyaml>=5.1 in /usr/local/lib/python3.11/dist-packages (from datasets) (6.0.2)\n",
            "Requirement already satisfied: aiohappyeyeballs>=2.3.0 in /usr/local/lib/python3.11/dist-packages (from aiohttp->datasets) (2.5.0)\n",
            "Requirement already satisfied: aiosignal>=1.1.2 in /usr/local/lib/python3.11/dist-packages (from aiohttp->datasets) (1.3.2)\n",
            "Requirement already satisfied: attrs>=17.3.0 in /usr/local/lib/python3.11/dist-packages (from aiohttp->datasets) (25.1.0)\n",
            "Requirement already satisfied: frozenlist>=1.1.1 in /usr/local/lib/python3.11/dist-packages (from aiohttp->datasets) (1.5.0)\n",
            "Requirement already satisfied: multidict<7.0,>=4.5 in /usr/local/lib/python3.11/dist-packages (from aiohttp->datasets) (6.1.0)\n",
            "Requirement already satisfied: propcache>=0.2.0 in /usr/local/lib/python3.11/dist-packages (from aiohttp->datasets) (0.3.0)\n",
            "Requirement already satisfied: yarl<2.0,>=1.17.0 in /usr/local/lib/python3.11/dist-packages (from aiohttp->datasets) (1.18.3)\n",
            "Requirement already satisfied: typing-extensions>=3.7.4.3 in /usr/local/lib/python3.11/dist-packages (from huggingface-hub>=0.24.0->datasets) (4.12.2)\n",
            "Requirement already satisfied: charset-normalizer<4,>=2 in /usr/local/lib/python3.11/dist-packages (from requests>=2.32.2->datasets) (3.4.1)\n",
            "Requirement already satisfied: idna<4,>=2.5 in /usr/local/lib/python3.11/dist-packages (from requests>=2.32.2->datasets) (3.10)\n",
            "Requirement already satisfied: urllib3<3,>=1.21.1 in /usr/local/lib/python3.11/dist-packages (from requests>=2.32.2->datasets) (2.3.0)\n",
            "Requirement already satisfied: certifi>=2017.4.17 in /usr/local/lib/python3.11/dist-packages (from requests>=2.32.2->datasets) (2025.1.31)\n",
            "Requirement already satisfied: python-dateutil>=2.8.2 in /usr/local/lib/python3.11/dist-packages (from pandas->datasets) (2.9.0.post0)\n",
            "Requirement already satisfied: pytz>=2020.1 in /usr/local/lib/python3.11/dist-packages (from pandas->datasets) (2025.1)\n",
            "Requirement already satisfied: tzdata>=2022.7 in /usr/local/lib/python3.11/dist-packages (from pandas->datasets) (2025.1)\n",
            "Requirement already satisfied: six>=1.5 in /usr/local/lib/python3.11/dist-packages (from python-dateutil>=2.8.2->pandas->datasets) (1.17.0)\n"
          ]
        }
      ],
      "source": [
        "!pip install datasets\n",
        "\n",
        "import torch\n",
        "from torch import nn\n",
        "from datasets import load_dataset\n",
        "from torch.utils.data import DataLoader"
      ]
    },
    {
      "cell_type": "code",
      "execution_count": 3,
      "metadata": {
        "id": "mwcVX2wFWyy8"
      },
      "outputs": [],
      "source": [
        "LANGUAGES = [\"en\", \"de\", \"nl\", \"sv-SE\", \"da\"]\n",
        "DEVICE = \"cuda\" if torch.cuda.is_available() else \"cpu\"\n",
        "LEARNING_RATE = 0.001\n",
        "NUM_EPOCHS = 20\n",
        "BATCH_SIZE = 125\n",
        "TRAIN_BATCH = 500\n",
        "VAL_BATCH = 100\n",
        "SAMPLE_RATE = 48000\n",
        "\n",
        "# Constants related to the MFCC processing\n",
        "# the number of samples per fft\n",
        "N_FFT = 2048\n",
        "# the amount of transform to shift\n",
        "HOP_LENGTH = 512\n",
        "# The number of coefficient we extract\n",
        "N_MFCC = 13"
      ]
    },
    {
      "cell_type": "markdown",
      "metadata": {
        "id": "fVqohc6HSxV6"
      },
      "source": [
        "### Data Processing"
      ]
    },
    {
      "cell_type": "code",
      "execution_count": null,
      "metadata": {
        "id": "XpIwtX0RS15s"
      },
      "outputs": [],
      "source": [
        "import pandas as pd\n",
        "import numpy as np\n",
        "import matplotlib.pylab as plt\n",
        "import seaborn as sns\n",
        "\n",
        "from glob import glob # list out files in directory -> reading wave files\n",
        "\n",
        "import librosa\n",
        "import librosa.display\n",
        "import IPython.display as ipd # play files\n",
        "\n",
        "from itertools import cycle # colours and gimiks\n",
        "import random"
      ]
    },
    {
      "cell_type": "markdown",
      "metadata": {
        "id": "T2rbl8V_TChV"
      },
      "source": [
        "### Training"
      ]
    },
    {
      "cell_type": "code",
      "execution_count": 5,
      "metadata": {
        "id": "9-1u9L9mTB-a"
      },
      "outputs": [],
      "source": [
        "import numpy as np\n",
        "import time\n",
        "import torch\n",
        "import torch.nn as nn\n",
        "import torch.nn.functional as F\n",
        "import torch.optim as optim\n",
        "import torchvision\n",
        "from torch.utils.data.sampler import SubsetRandomSampler\n",
        "import torchvision.transforms as transforms"
      ]
    },
    {
      "cell_type": "markdown",
      "metadata": {
        "id": "aiRpXsylZoC4"
      },
      "source": [
        "# Download Dataset"
      ]
    },
    {
      "cell_type": "code",
      "execution_count": 6,
      "metadata": {
        "colab": {
          "base_uri": "https://localhost:8080/"
        },
        "collapsed": true,
        "id": "pLqETfMgs6vk",
        "outputId": "fa1675e5-eaba-4e9b-cdc0-cd1ec23f404d"
      },
      "outputs": [
        {
          "name": "stdout",
          "output_type": "stream",
          "text": [
            "\n",
            "    _|    _|  _|    _|    _|_|_|    _|_|_|  _|_|_|  _|      _|    _|_|_|      _|_|_|_|    _|_|      _|_|_|  _|_|_|_|\n",
            "    _|    _|  _|    _|  _|        _|          _|    _|_|    _|  _|            _|        _|    _|  _|        _|\n",
            "    _|_|_|_|  _|    _|  _|  _|_|  _|  _|_|    _|    _|  _|  _|  _|  _|_|      _|_|_|    _|_|_|_|  _|        _|_|_|\n",
            "    _|    _|  _|    _|  _|    _|  _|    _|    _|    _|    _|_|  _|    _|      _|        _|    _|  _|        _|\n",
            "    _|    _|    _|_|      _|_|_|    _|_|_|  _|_|_|  _|      _|    _|_|_|      _|        _|    _|    _|_|_|  _|_|_|_|\n",
            "\n",
            "    To log in, `huggingface_hub` requires a token generated from https://huggingface.co/settings/tokens .\n",
            "Enter your token (input will not be visible): \n",
            "Add token as git credential? (Y/n) n\n",
            "Token is valid (permission: read).\n",
            "The token `CommonVoice` has been saved to /root/.cache/huggingface/stored_tokens\n",
            "Your token has been saved to /root/.cache/huggingface/token\n",
            "Login successful.\n",
            "The current active token is: `CommonVoice`\n"
          ]
        }
      ],
      "source": [
        "# linking hugging face account\n",
        "!huggingface-cli login"
      ]
    },
    {
      "cell_type": "code",
      "execution_count": null,
      "metadata": {
        "id": "kcxGewtCt1YQ"
      },
      "outputs": [],
      "source": [
        "def load_data(languages, train_batch, val_batch, random=False):\n",
        "  train_data = []\n",
        "  val_data = []\n",
        "\n",
        "  train_audio = []\n",
        "  train_labels = []\n",
        "  train_sr = []\n",
        "  val_audio = []\n",
        "  val_labels = []\n",
        "  val_sr = []\n",
        "\n",
        "  one_hot = F.one_hot(torch.tensor([0, 1, 2, 3, 4]), num_classes=len(languages))\n",
        "\n",
        "  for i in range(len(one_hot)):\n",
        "    one_hot[i] = one_hot[i].to(dtype=torch.float)\n",
        "\n",
        "  for i in range(len(languages)):\n",
        "    # Load common voice 17 dataset training set with streaming, and enabling custom code (necessary to load dataset correctly)\n",
        "    if random:\n",
        "      train_set = load_dataset(\"mozilla-foundation/common_voice_17_0\", languages[i], split=\"train\", streaming=True, trust_remote_code=True)\n",
        "      train_data.append(train_set.shuffle(buffer_size=train_batch, seed=random.randrange(1,100)))\n",
        "      val_set = load_dataset(\"mozilla-foundation/common_voice_17_0\", languages[i], split=\"validation\", streaming=True, trust_remote_code=True)\n",
        "      val_data.append(val_set.shuffle(buffer_size=val_batch, seed=random.randrange(1,100)))\n",
        "    else:\n",
        "      train_data.append(load_dataset(\"mozilla-foundation/common_voice_17_0\", languages[i], split=\"train\", streaming=True, cache_dir='/content/my_cache', trust_remote_code=True))\n",
        "      val_data.append(load_dataset(\"mozilla-foundation/common_voice_17_0\", languages[i], split=\"validation\", streaming=True, cache_dir='/content/my_cache', trust_remote_code=True))\n",
        "\n",
        "    it = iter(train_data[i])\n",
        "    it2 = iter(val_data[i])\n",
        "\n",
        "    for j in range(train_batch):\n",
        "      train_item = next(it)\n",
        "\n",
        "      if train_item:\n",
        "        train_audio.append(train_item['audio']['array'])\n",
        "        train_sr.append(train_item['audio']['sampling_rate'])\n",
        "        train_labels.append(one_hot[i])\n",
        "\n",
        "    for j in range(val_batch):\n",
        "      val_item = next(it2)\n",
        "\n",
        "      if val_item:\n",
        "        val_audio.append(val_item['audio']['array'])\n",
        "        val_sr.append(val_item['audio']['sampling_rate'])\n",
        "        val_labels.append(one_hot[i])\n",
        "\n",
        "\n",
        "    print(f\"Loaded {languages[i]}\")\n",
        "\n",
        "  return train_audio, train_labels, train_sr, val_audio, val_labels, val_sr"
      ]
    },
    {
      "cell_type": "code",
      "execution_count": 8,
      "metadata": {
        "colab": {
          "base_uri": "https://localhost:8080/",
          "height": 405,
          "referenced_widgets": [
            "b7f180a2c41940538ac642cec11f4e5a",
            "18d573d1912a407db3084f31c44176e0",
            "cd34af32c44b41dd97672eb251195d2a",
            "a2f94beceb1745e0b1df171addec8f25",
            "012107c2b89542238cabe0876a32e174",
            "afdd1c6fad0d4637a38e77fb95236335",
            "1b267cc04ee84504ac4e2a3f111c3417",
            "7e5caf47279f45ab8a4ef1bb9ae3ac73",
            "d6e805098bc748789fde86a2594c602e",
            "38df2f0bf5c84d64b1576e25d5576763",
            "89b3ec71c1564910a6e67c8e73a8abd2",
            "8e7912bb063c4aa49b59e3b9999af3fb",
            "371db08d6a2746d182839d00e3be97c4",
            "503e96b0a5714ad5ad8dad0cc5364a98",
            "ac54d69b336a4d518cc1429b8d8dac9f",
            "2a8acefcd113480fa82fc8ce368923ba",
            "1bb78a2df31d4d93909a820f434f6adc",
            "8e93d26e2df648e3aef13a64dc13ec24",
            "58923f40bd254e5b8b4fa16f57078094",
            "a6e90d01e2464500bd859736514b44c9",
            "2272a8afb66f4df78aa666aff0a1f958",
            "4804691b2d974d709052a340d8a3011c",
            "fb6add17eccb48289227485ff8f7d2b0",
            "3a28f7fa891d412f9c627c6058d568d1",
            "350ab7a4809243f8b90c4abe5b132066",
            "1317f900961f4d3eb37f6f7623da5a3a",
            "e2aaa648631b4822aafb970274b8a8c3",
            "5481efc7d89f466a8fc8dfe450314228",
            "b04b124030bd41b0b9ac091d730afc5a",
            "7f60fabc8149427984b99b9a1abf0a3e",
            "09a3f59df7994544b9c9c1393776dc06",
            "c42a7d7900ce46bc9a850cc3ef8435b8",
            "3f5713ec81064eb7a2ab28f9d95969e7",
            "3144b1b2216c4ab0bfb0107a0a517908",
            "3ae05652994e407085bc91b2acaf751c",
            "0f3ae975d34d461cbd485bef8807cd8b",
            "c65107cb082f48ec8353f1616b660a3e",
            "a4dda969cdab43cdbd47ad6ef97a5185",
            "8972544788134421aef8e14a041afcc2",
            "8048c70a14534c5aac498d5105456d32",
            "f7e7a1607f7e400aa6053de2d0508049",
            "9f347c570478461ab907331beaf431ad",
            "9f33b5c015ba4dd793bbfceaaf98633d",
            "a76352a586fb4fcebacf75aef2944845"
          ]
        },
        "id": "A-xEGTzsyPY8",
        "outputId": "4f27d65c-1e52-4556-f184-a86c0663e242"
      },
      "outputs": [
        {
          "data": {
            "application/vnd.jupyter.widget-view+json": {
              "model_id": "b7f180a2c41940538ac642cec11f4e5a",
              "version_major": 2,
              "version_minor": 0
            },
            "text/plain": [
              "README.md:   0%|          | 0.00/12.7k [00:00<?, ?B/s]"
            ]
          },
          "metadata": {},
          "output_type": "display_data"
        },
        {
          "data": {
            "application/vnd.jupyter.widget-view+json": {
              "model_id": "8e7912bb063c4aa49b59e3b9999af3fb",
              "version_major": 2,
              "version_minor": 0
            },
            "text/plain": [
              "common_voice_17_0.py:   0%|          | 0.00/8.19k [00:00<?, ?B/s]"
            ]
          },
          "metadata": {},
          "output_type": "display_data"
        },
        {
          "data": {
            "application/vnd.jupyter.widget-view+json": {
              "model_id": "fb6add17eccb48289227485ff8f7d2b0",
              "version_major": 2,
              "version_minor": 0
            },
            "text/plain": [
              "languages.py:   0%|          | 0.00/3.92k [00:00<?, ?B/s]"
            ]
          },
          "metadata": {},
          "output_type": "display_data"
        },
        {
          "data": {
            "application/vnd.jupyter.widget-view+json": {
              "model_id": "3144b1b2216c4ab0bfb0107a0a517908",
              "version_major": 2,
              "version_minor": 0
            },
            "text/plain": [
              "release_stats.py:   0%|          | 0.00/132k [00:00<?, ?B/s]"
            ]
          },
          "metadata": {},
          "output_type": "display_data"
        },
        {
          "name": "stderr",
          "output_type": "stream",
          "text": [
            "Reading metadata...: 1101170it [00:22, 49779.71it/s]\n",
            "Reading metadata...: 16393it [00:00, 52014.96it/s]\n"
          ]
        },
        {
          "name": "stdout",
          "output_type": "stream",
          "text": [
            "Loaded en\n"
          ]
        },
        {
          "name": "stderr",
          "output_type": "stream",
          "text": [
            "Reading metadata...: 589100it [00:10, 54857.68it/s]\n",
            "Reading metadata...: 16183it [00:00, 36509.56it/s]\n"
          ]
        },
        {
          "name": "stdout",
          "output_type": "stream",
          "text": [
            "Loaded de\n"
          ]
        },
        {
          "name": "stderr",
          "output_type": "stream",
          "text": [
            "Reading metadata...: 34898it [00:00, 56416.28it/s]\n",
            "Reading metadata...: 11252it [00:00, 31695.43it/s]\n"
          ]
        },
        {
          "name": "stdout",
          "output_type": "stream",
          "text": [
            "Loaded nl\n"
          ]
        },
        {
          "name": "stderr",
          "output_type": "stream",
          "text": [
            "Reading metadata...: 7744it [00:00, 51348.00it/s]\n",
            "Reading metadata...: 5210it [00:00, 35981.98it/s]\n"
          ]
        },
        {
          "name": "stdout",
          "output_type": "stream",
          "text": [
            "Loaded sv-SE\n"
          ]
        },
        {
          "name": "stderr",
          "output_type": "stream",
          "text": [
            "Reading metadata...: 3484it [00:00, 25032.08it/s]\n",
            "Reading metadata...: 2105it [00:00, 18568.20it/s]\n"
          ]
        },
        {
          "name": "stdout",
          "output_type": "stream",
          "text": [
            "Loaded da\n"
          ]
        }
      ],
      "source": [
        "train_audio, train_labels, train_sr, val_audio, val_labels, val_sr = load_data(LANGUAGES, TRAIN_BATCH, VAL_BATCH)"
      ]
    },
    {
      "cell_type": "markdown",
      "metadata": {
        "id": "V-rmiEypZrQr"
      },
      "source": [
        "# Data Processing"
      ]
    },
    {
      "cell_type": "markdown",
      "metadata": {
        "id": "YotWu-lGbbUu"
      },
      "source": [
        "### Preprocessing"
      ]
    },
    {
      "cell_type": "code",
      "execution_count": 9,
      "metadata": {
        "id": "mxFlPmh3HiLb"
      },
      "outputs": [],
      "source": [
        "def process_batch(audio_data, sample_rates, batch_size):\n",
        "  audio_processed = []\n",
        "  LENGTH =  5 * SAMPLE_RATE # (5 sec)\n",
        "\n",
        "  for i in range(batch_size):\n",
        "    # Resample\n",
        "    audio_resampled = librosa.resample(audio_data[i], orig_sr = sample_rates[i], target_sr = SAMPLE_RATE)\n",
        "\n",
        "    # Trimming decibels\n",
        "    audio_trimmed, _ = librosa.effects.trim(audio_resampled, top_db=80)\n",
        "\n",
        "    # if audio too long trim down length\n",
        "    if len(audio_trimmed) > LENGTH:\n",
        "      audio_trimmed = audio_trimmed[:LENGTH]\n",
        "\n",
        "    # if audio too short, add padding\n",
        "    elif len(audio_trimmed) < LENGTH:\n",
        "      padding =  LENGTH - len(audio_trimmed)\n",
        "      audio_trimmed = np.pad(audio_trimmed, (0, padding), mode='constant')\n",
        "\n",
        "    # Calculate MFCCs for the trimmed audio\n",
        "    audio_trimmed = librosa.feature.mfcc(y = np.abs(audio_trimmed), sr=SAMPLE_RATE, n_fft=N_FFT, hop_length=HOP_LENGTH, n_mfcc=N_MFCC)\n",
        "\n",
        "    # Add to processed array\n",
        "    audio_processed.append(audio_trimmed)\n",
        "\n",
        "    if i % TRAIN_BATCH == 0:\n",
        "      print(f\"Processed {i} audio files\")\n",
        "\n",
        "  return audio_processed"
      ]
    },
    {
      "cell_type": "code",
      "execution_count": 10,
      "metadata": {
        "colab": {
          "base_uri": "https://localhost:8080/",
          "height": 559
        },
        "id": "ydd64wXst82d",
        "outputId": "1de7628b-369f-4059-98e4-3af6dc201f27"
      },
      "outputs": [
        {
          "name": "stdout",
          "output_type": "stream",
          "text": [
            "Processed 0 audio files\n",
            "Processed 500 audio files\n",
            "Processed 1000 audio files\n",
            "Processed 1500 audio files\n",
            "Processed 2000 audio files\n",
            "(13, 469)\n"
          ]
        },
        {
          "data": {
            "image/png": "[encoded data removed]",
            "text/plain": [
              "<Figure size 640x480 with 1 Axes>"
            ]
          },
          "metadata": {},
          "output_type": "display_data"
        }
      ],
      "source": [
        "import matplotlib.pyplot as plt\n",
        "import numpy as np\n",
        "from matplotlib import cm\n",
        "\n",
        "TEST_INDEX = 1\n",
        "\n",
        "MFCC_train = process_batch(train_audio, train_sr, len(train_audio))\n",
        "\n",
        "D = librosa.amplitude_to_db(np.abs(MFCC_train[TEST_INDEX]), ref=np.max)\n",
        "img = librosa.display.specshow(D, y_axis='linear', x_axis='time', sr=SAMPLE_RATE)\n",
        "\n",
        "print(MFCC_train[TEST_INDEX].shape)"
      ]
    },
    {
      "cell_type": "markdown",
      "metadata": {
        "id": "Moh5PVtEbiCl"
      },
      "source": [
        "### Dataset Class Archive"
      ]
    },
    {
      "cell_type": "code",
      "execution_count": 11,
      "metadata": {
        "id": "qgaDPrt1VTkx"
      },
      "outputs": [],
      "source": [
        "import torch\n",
        "from torch.utils.data import Dataset, DataLoader\n",
        "import librosa\n",
        "import numpy as np\n",
        "\n",
        "class AudioDataset(Dataset):\n",
        "    def __init__(self, audios, labels, sample_rates, n_fft=N_FFT, hop_length=HOP_LENGTH, n_mfcc=N_MFCC, transform=None):\n",
        "        \"\"\"\n",
        "        audios: list of raw audio arrays\n",
        "        labels: list of labels\n",
        "        \"\"\"\n",
        "        self.audios = audios\n",
        "        self.labels = labels\n",
        "        self.sample_rates = sample_rates\n",
        "        self.n_fft = n_fft\n",
        "        self.hop_length = hop_length\n",
        "        self.n_mfcc = n_mfcc\n",
        "        self.transform = transform\n",
        "\n",
        "    def __len__(self):\n",
        "        return len(self.audios)\n",
        "\n",
        "    def __getitem__(self, idx):\n",
        "        audio = self.audios[idx]\n",
        "        label = self.labels[idx]\n",
        "        sr = self.sample_rates[idx]\n",
        "\n",
        "        audio_length = SAMPLE_RATE*5\n",
        "\n",
        "        # Resample\n",
        "        audio_resampled = librosa.resample(audio, orig_sr = sr, target_sr = SAMPLE_RATE)\n",
        "\n",
        "        # Trimming decibels\n",
        "        audio_trimmed, _ = librosa.effects.trim(audio_resampled, top_db=80)\n",
        "\n",
        "        # if audio too long trim down length (5 secs)\n",
        "        if len(audio_trimmed) > audio_length:\n",
        "          audio_trimmed = audio_trimmed[:audio_length]\n",
        "\n",
        "        # if audio too short, add padding\n",
        "        elif len(audio_trimmed) < audio_length:\n",
        "          padding = audio_length - len(audio_trimmed)\n",
        "          audio_trimmed = np.pad(audio_trimmed, (0, padding), mode='constant')\n",
        "\n",
        "        # Calculate MFCCs for the trimmed audio\n",
        "        mfcc = librosa.feature.mfcc(y = np.abs(audio_trimmed), sr=SAMPLE_RATE, n_fft=self.n_fft, hop_length=self.hop_length, n_mfcc=self.n_mfcc)\n",
        "        mfcc = torch.tensor(mfcc, dtype=torch.float)\n",
        "\n",
        "        return mfcc, label"
      ]
    },
    {
      "cell_type": "code",
      "execution_count": 12,
      "metadata": {
        "id": "ZMRya2RSQtDy"
      },
      "outputs": [],
      "source": [
        "audio_dataset = AudioDataset(train_audio, train_labels, train_sr)\n",
        "train_loader = DataLoader(audio_dataset, batch_size=BATCH_SIZE, shuffle=True, num_workers=2)"
      ]
    },
    {
      "cell_type": "markdown",
      "metadata": {
        "id": "TA7bo20idJQI"
      },
      "source": [
        "### Dataset Class"
      ]
    },
    {
      "cell_type": "code",
      "execution_count": 15,
      "metadata": {
        "id": "ySniNZ6udIU_"
      },
      "outputs": [],
      "source": [
        "import torch\n",
        "from torch.utils.data import Dataset, DataLoader\n",
        "import librosa\n",
        "import numpy as np\n",
        "\n",
        "class AudioDataset(Dataset):\n",
        "    def __init__(self, processed_audio, labels, sample_rates, n_fft=N_FFT, hop_length=HOP_LENGTH, n_mfcc=N_MFCC, transform=None):\n",
        "        \"\"\"\n",
        "        audios: list of raw audio arrays\n",
        "        labels: list of labels\n",
        "        \"\"\"\n",
        "        self.audios = processed_audio\n",
        "        self.labels = labels\n",
        "        self.sample_rates = sample_rates\n",
        "        self.n_fft = n_fft\n",
        "        self.hop_length = hop_length\n",
        "        self.n_mfcc = n_mfcc\n",
        "        self.transform = transform\n",
        "\n",
        "    def __len__(self):\n",
        "        return len(self.audios)\n",
        "\n",
        "    def __getitem__(self, idx):\n",
        "        audio = self.audios[idx]\n",
        "        label = self.labels[idx]\n",
        "        audio = torch.tensor(audio, dtype=torch.float)\n",
        "\n",
        "        return audio, label"
      ]
    },
    {
      "cell_type": "code",
      "execution_count": 16,
      "metadata": {
        "id": "JxseEcH4dQ68"
      },
      "outputs": [],
      "source": [
        "audio_dataset = AudioDataset(MFCC_train, train_labels, train_sr)\n",
        "train_loader = DataLoader(audio_dataset, batch_size=BATCH_SIZE, shuffle=True, num_workers=2)"
      ]
    },
    {
      "cell_type": "code",
      "execution_count": 17,
      "metadata": {
        "colab": {
          "base_uri": "https://localhost:8080/"
        },
        "id": "RTYt-7kBdyop",
        "outputId": "bfd90c64-ccfe-45c2-ecfd-706a32393c3e"
      },
      "outputs": [
        {
          "name": "stdout",
          "output_type": "stream",
          "text": [
            "torch.Size([125, 13, 469])\n",
            "tensor([[1, 0, 0, 0, 0],\n",
            "        [1, 0, 0, 0, 0],\n",
            "        [1, 0, 0, 0, 0],\n",
            "        [0, 0, 1, 0, 0],\n",
            "        [0, 1, 0, 0, 0],\n",
            "        [0, 0, 0, 0, 1],\n",
            "        [1, 0, 0, 0, 0],\n",
            "        [0, 1, 0, 0, 0],\n",
            "        [0, 0, 1, 0, 0],\n",
            "        [0, 1, 0, 0, 0],\n",
            "        [0, 0, 0, 0, 1],\n",
            "        [1, 0, 0, 0, 0],\n",
            "        [0, 0, 0, 0, 1],\n",
            "        [0, 0, 0, 1, 0],\n",
            "        [0, 0, 1, 0, 0],\n",
            "        [0, 1, 0, 0, 0],\n",
            "        [1, 0, 0, 0, 0],\n",
            "        [0, 1, 0, 0, 0],\n",
            "        [0, 1, 0, 0, 0],\n",
            "        [0, 0, 0, 0, 1],\n",
            "        [0, 0, 1, 0, 0],\n",
            "        [0, 0, 1, 0, 0],\n",
            "        [0, 1, 0, 0, 0],\n",
            "        [0, 0, 1, 0, 0],\n",
            "        [0, 0, 0, 0, 1],\n",
            "        [0, 0, 1, 0, 0],\n",
            "        [0, 0, 0, 1, 0],\n",
            "        [0, 0, 0, 1, 0],\n",
            "        [0, 0, 1, 0, 0],\n",
            "        [0, 0, 0, 1, 0],\n",
            "        [0, 0, 0, 0, 1],\n",
            "        [0, 0, 0, 1, 0],\n",
            "        [0, 1, 0, 0, 0],\n",
            "        [0, 0, 0, 0, 1],\n",
            "        [0, 0, 1, 0, 0],\n",
            "        [0, 0, 0, 0, 1],\n",
            "        [0, 1, 0, 0, 0],\n",
            "        [1, 0, 0, 0, 0],\n",
            "        [0, 0, 1, 0, 0],\n",
            "        [0, 1, 0, 0, 0],\n",
            "        [0, 1, 0, 0, 0],\n",
            "        [1, 0, 0, 0, 0],\n",
            "        [0, 0, 0, 0, 1],\n",
            "        [0, 0, 1, 0, 0],\n",
            "        [0, 0, 0, 0, 1],\n",
            "        [1, 0, 0, 0, 0],\n",
            "        [0, 0, 0, 1, 0],\n",
            "        [0, 0, 0, 1, 0],\n",
            "        [0, 1, 0, 0, 0],\n",
            "        [1, 0, 0, 0, 0],\n",
            "        [0, 1, 0, 0, 0],\n",
            "        [0, 1, 0, 0, 0],\n",
            "        [1, 0, 0, 0, 0],\n",
            "        [0, 0, 0, 0, 1],\n",
            "        [1, 0, 0, 0, 0],\n",
            "        [1, 0, 0, 0, 0],\n",
            "        [1, 0, 0, 0, 0],\n",
            "        [0, 1, 0, 0, 0],\n",
            "        [0, 0, 0, 0, 1],\n",
            "        [0, 0, 0, 0, 1],\n",
            "        [0, 0, 0, 1, 0],\n",
            "        [1, 0, 0, 0, 0],\n",
            "        [0, 0, 1, 0, 0],\n",
            "        [1, 0, 0, 0, 0],\n",
            "        [1, 0, 0, 0, 0],\n",
            "        [0, 0, 0, 0, 1],\n",
            "        [0, 0, 1, 0, 0],\n",
            "        [0, 0, 1, 0, 0],\n",
            "        [0, 1, 0, 0, 0],\n",
            "        [0, 0, 1, 0, 0],\n",
            "        [0, 0, 0, 1, 0],\n",
            "        [0, 0, 1, 0, 0],\n",
            "        [0, 0, 0, 0, 1],\n",
            "        [0, 0, 0, 1, 0],\n",
            "        [0, 0, 0, 1, 0],\n",
            "        [1, 0, 0, 0, 0],\n",
            "        [0, 1, 0, 0, 0],\n",
            "        [0, 0, 0, 0, 1],\n",
            "        [0, 1, 0, 0, 0],\n",
            "        [0, 1, 0, 0, 0],\n",
            "        [0, 1, 0, 0, 0],\n",
            "        [0, 0, 0, 0, 1],\n",
            "        [0, 0, 1, 0, 0],\n",
            "        [0, 0, 0, 1, 0],\n",
            "        [0, 0, 0, 1, 0],\n",
            "        [0, 0, 0, 0, 1],\n",
            "        [1, 0, 0, 0, 0],\n",
            "        [0, 0, 0, 0, 1],\n",
            "        [0, 0, 0, 1, 0],\n",
            "        [0, 0, 0, 1, 0],\n",
            "        [0, 0, 1, 0, 0],\n",
            "        [1, 0, 0, 0, 0],\n",
            "        [1, 0, 0, 0, 0],\n",
            "        [1, 0, 0, 0, 0],\n",
            "        [0, 0, 0, 1, 0],\n",
            "        [0, 0, 1, 0, 0],\n",
            "        [0, 0, 0, 0, 1],\n",
            "        [0, 0, 1, 0, 0],\n",
            "        [0, 1, 0, 0, 0],\n",
            "        [1, 0, 0, 0, 0],\n",
            "        [0, 1, 0, 0, 0],\n",
            "        [0, 1, 0, 0, 0],\n",
            "        [1, 0, 0, 0, 0],\n",
            "        [0, 0, 0, 0, 1],\n",
            "        [0, 0, 0, 1, 0],\n",
            "        [0, 0, 0, 0, 1],\n",
            "        [0, 0, 0, 0, 1],\n",
            "        [0, 0, 1, 0, 0],\n",
            "        [0, 0, 0, 0, 1],\n",
            "        [1, 0, 0, 0, 0],\n",
            "        [0, 0, 0, 0, 1],\n",
            "        [1, 0, 0, 0, 0],\n",
            "        [0, 0, 0, 1, 0],\n",
            "        [0, 0, 0, 0, 1],\n",
            "        [0, 0, 1, 0, 0],\n",
            "        [0, 1, 0, 0, 0],\n",
            "        [0, 0, 1, 0, 0],\n",
            "        [0, 0, 0, 0, 1],\n",
            "        [0, 0, 0, 0, 1],\n",
            "        [0, 1, 0, 0, 0],\n",
            "        [0, 0, 1, 0, 0],\n",
            "        [0, 0, 0, 1, 0],\n",
            "        [0, 1, 0, 0, 0],\n",
            "        [1, 0, 0, 0, 0],\n",
            "        [0, 0, 1, 0, 0]])\n"
          ]
        }
      ],
      "source": [
        "i = 0\n",
        "for data, label in train_loader:\n",
        "  if i == 3:\n",
        "    print(data.shape)\n",
        "    print(label)\n",
        "  i = i + 1"
      ]
    },
    {
      "cell_type": "markdown",
      "metadata": {
        "id": "9y5V7V3rZvFH"
      },
      "source": [
        "# CNN Model"
      ]
    },
    {
      "cell_type": "code",
      "execution_count": 18,
      "metadata": {
        "id": "vei5rbFQa7RJ"
      },
      "outputs": [],
      "source": [
        "class ConvNetwork(nn.Module):\n",
        "  def __init__(self):\n",
        "    super().__init__()\n",
        "\n",
        "    self.c1 = nn.Sequential(\n",
        "      nn.Conv2d(\n",
        "        in_channels=1,\n",
        "        out_channels=32,\n",
        "        kernel_size=3,\n",
        "        stride=1,\n",
        "        padding=2,\n",
        "      ),\n",
        "      nn.BatchNorm2d(32),\n",
        "      nn.ReLU(),\n",
        "      nn.MaxPool2d(kernel_size=2),\n",
        "      nn.Dropout(p=0.2)\n",
        "    )\n",
        "\n",
        "    self.c2 = nn.Sequential(\n",
        "      nn.Conv2d(\n",
        "        in_channels=32,\n",
        "        out_channels=64,\n",
        "        kernel_size=3,\n",
        "        stride=1,\n",
        "        padding=2\n",
        "      ),\n",
        "      nn.BatchNorm2d(64),\n",
        "      nn.ReLU(),\n",
        "      nn.MaxPool2d(kernel_size=2),\n",
        "      nn.Dropout(p=0.2)\n",
        "    )\n",
        "\n",
        "    self.c3 = nn.Sequential(\n",
        "      nn.Conv2d(\n",
        "        in_channels=64,\n",
        "        out_channels=128,\n",
        "        kernel_size=3,\n",
        "        stride=1,\n",
        "        padding=2\n",
        "      ),\n",
        "      nn.BatchNorm2d(128),\n",
        "      nn.ReLU(),\n",
        "      nn.MaxPool2d(kernel_size=2),\n",
        "      nn.Dropout(p=0.2)\n",
        "    )\n",
        "\n",
        "    self.global_max = nn.MaxPool2d(kernel_size=2)\n",
        "    self.flatten = nn.Flatten()\n",
        "    self.linear = nn.Linear(3840, len(LANGUAGES)) # BATCH_SIZE or other params\n",
        "    self.softmax = nn.Softmax(dim=1)\n",
        "\n",
        "  def forward(self, input):\n",
        "    input = input.unsqueeze(1)\n",
        "    input = input.squeeze(0)\n",
        "    x = self.c1(input)\n",
        "    x = self.c2(x)\n",
        "    x = self.c3(x)\n",
        "    x = self.global_max(x)\n",
        "    x = self.flatten(x)\n",
        "    logits = self.linear(x)\n",
        "    predictions = self.softmax(logits)\n",
        "    return logits, predictions"
      ]
    },
    {
      "cell_type": "markdown",
      "metadata": {
        "id": "avfuq0xQaoYR"
      },
      "source": [
        "### Training"
      ]
    },
    {
      "cell_type": "code",
      "execution_count": 19,
      "metadata": {
        "colab": {
          "base_uri": "https://localhost:8080/"
        },
        "collapsed": true,
        "id": "YJ5UjvQhyABD",
        "outputId": "3322ae59-73ba-47e8-bb3f-ab64285075b9"
      },
      "outputs": [
        {
          "name": "stdout",
          "output_type": "stream",
          "text": [
            "Mounted at /content/drive\n"
          ]
        }
      ],
      "source": [
        "from google.colab import drive\n",
        "import os\n",
        "drive.mount('/content/drive')"
      ]
    },
    {
      "cell_type": "code",
      "execution_count": 20,
      "metadata": {
        "id": "tWfyi7JtyDI9"
      },
      "outputs": [],
      "source": [
        "def save_result(model_code, train_err, train_loss, val_err, val_loss):\n",
        "  save_dir = \"/content/drive/My Drive/training_results\"\n",
        "  os.makedirs(save_dir, exist_ok=True)\n",
        "  model_path = os.path.join(save_dir, model_code)\n",
        "  np.savetxt(\"{}_train_err.csv\".format(model_path), train_err)\n",
        "  np.savetxt(\"{}_train_loss.csv\".format(model_path), train_loss)\n",
        "  np.savetxt(\"{}_val_err.csv\".format(model_path), val_err)\n",
        "  np.savetxt(\"{}_val_loss.csv\".format(model_path), val_loss)\n",
        "\n",
        "\n",
        "def save_weight(net, model_code):\n",
        "  \"\"\"model code will be a string code we assigned to each model\"\"\"\n",
        "  weight_dir = \"/content/drive/My Drive/model_weights\"\n",
        "  os.makedirs(weight_dir, exist_ok=True)\n",
        "\n",
        "  model_path = os.path.join(weight_dir, model_code)\n",
        "  torch.save(net.state_dict(), f\"{model_path}.pth\")\n",
        "\n",
        "\n",
        "def load_weight(net, model_code):\n",
        "  \"\"\"model code will be a string code we assigned to each model\"\"\"\n",
        "  weight_dir = \"/content/drive/My Drive/model_weights\"\n",
        "  model_path = os.path.join(weight_dir, model_code)\n",
        "\n",
        "  net.load_state_dict(torch.load(f\"{model_path}.pth\"))\n",
        "  net.eval()\n",
        "  return net"
      ]
    },
    {
      "cell_type": "code",
      "execution_count": 21,
      "metadata": {
        "id": "IKchax2xmhJC"
      },
      "outputs": [],
      "source": [
        "def plot_training_curve(model_code):\n",
        "    import matplotlib.pyplot as plt\n",
        "\n",
        "    save_dir = \"/content/drive/My Drive/training_results\"\n",
        "    path = os.path.join(save_dir, model_code)\n",
        "\n",
        "    train_err = np.loadtxt(\"{}_train_err.csv\".format(path))\n",
        "    val_err = np.loadtxt(\"{}_val_err.csv\".format(path))\n",
        "    train_loss = np.loadtxt(\"{}_train_loss.csv\".format(path))\n",
        "    val_loss = np.loadtxt(\"{}_val_loss.csv\".format(path))\n",
        "\n",
        "    # plt.title(\"Train vs Validation Error\")\n",
        "    plt.title(\"Train Error\")\n",
        "    n = len(train_err) # number of epochs\n",
        "    plt.plot(range(1,n+1), train_err, label=\"Train\")\n",
        "    # plt.plot(range(1,n+1), val_err, label=\"Validation\")\n",
        "    plt.xlabel(\"Epoch\")\n",
        "    plt.ylabel(\"Error\")\n",
        "    plt.legend(loc='best')\n",
        "    plt.show()\n",
        "    # plt.title(\"Train vs Validation Loss\")\n",
        "    plt.title(\"Train Loss\")\n",
        "    plt.plot(range(1,n+1), train_loss, label=\"Train\")\n",
        "    # plt.plot(range(1,n+1), val_loss, label=\"Validation\")\n",
        "    plt.xlabel(\"Epoch\")\n",
        "    plt.ylabel(\"Loss\")\n",
        "    plt.legend(loc='best')\n",
        "    plt.show()"
      ]
    },
    {
      "cell_type": "code",
      "execution_count": null,
      "metadata": {
        "id": "0gO0K21ta7sG"
      },
      "outputs": [],
      "source": [
        "def train(model, model_name, data_loader, device, optimizer, loss_function, num_epochs):\n",
        "  start_time = time.time()\n",
        "  train_err = np.zeros(num_epochs)\n",
        "  train_loss = np.zeros(num_epochs)\n",
        "  val_err = np.zeros(num_epochs)\n",
        "  val_loss = np.zeros(num_epochs)\n",
        "  total_train_err = 0\n",
        "  total_train_loss = 0\n",
        "\n",
        "  for epoch in range(num_epochs):\n",
        "    correct = 0\n",
        "    total = 0\n",
        "    for data, label in data_loader:\n",
        "      logits, predictions = model(data)\n",
        "      loss = loss_function(logits, label.to(dtype=torch.float))\n",
        "\n",
        "      optimizer.zero_grad()\n",
        "      loss.backward()\n",
        "      optimizer.step()\n",
        "\n",
        "      pred_classes = torch.argmax(predictions, dim=1)\n",
        "      true_classes = torch.argmax(label, dim=1)\n",
        "      correct += torch.eq(pred_classes, true_classes).sum().item()\n",
        "      total += label.size(0)\n",
        "\n",
        "      train_loss[epoch] = loss.item()\n",
        "\n",
        "      # val_err[epoch], val_loss[epoch] = evaluate(net, val_loader, criterion)\n",
        "\n",
        "    train_err[epoch] = 100 - correct / total * 100\n",
        "    \n",
        "    save_weight(cnn, f\"{model_name}_epoch_{epoch + 1}\")\n",
        "    print(f\"Epoch #{epoch + 1} | Loss: {train_loss[epoch]} | Error: {train_err[epoch]}%\")\n",
        "\n",
        "  save_result(model_name, train_err, train_loss, val_err, val_loss)\n",
        "\n",
        "  end_time = time.time()\n",
        "  elapsed_time = end_time - start_time\n",
        "  print(f\"Time elapsed: {elapsed_time:.4f} seconds\")"
      ]
    },
    {
      "cell_type": "code",
      "execution_count": 23,
      "metadata": {
        "colab": {
          "base_uri": "https://localhost:8080/",
          "height": 1000
        },
        "id": "1O7j-TPTyH4y",
        "outputId": "2f0d7189-4bf0-4e80-d25c-5aebfc696d4a"
      },
      "outputs": [
        {
          "name": "stdout",
          "output_type": "stream",
          "text": [
            "Epoch #1 | Loss: 1.661626935005188 | Error: 3.656\n",
            "Epoch #2 | Loss: 1.505625605583191 | Error: 3.872\n",
            "Epoch #3 | Loss: 1.3043149709701538 | Error: 3.848\n",
            "Epoch #4 | Loss: 1.3876765966415405 | Error: 3.832\n",
            "Epoch #5 | Loss: 1.364349603652954 | Error: 3.928\n",
            "Epoch #6 | Loss: 1.2560988664627075 | Error: 3.944\n",
            "Epoch #7 | Loss: 1.2031646966934204 | Error: 3.944\n",
            "Epoch #8 | Loss: 1.2243626117706299 | Error: 3.928\n",
            "Epoch #9 | Loss: 1.1426899433135986 | Error: 3.864\n",
            "Epoch #10 | Loss: 1.1481066942214966 | Error: 3.824\n",
            "Epoch #11 | Loss: 1.0427186489105225 | Error: 3.664\n",
            "Epoch #12 | Loss: 0.9685695767402649 | Error: 3.552\n",
            "Epoch #13 | Loss: 0.9914010167121887 | Error: 3.536\n",
            "Epoch #14 | Loss: 1.016499638557434 | Error: 3.584\n",
            "Epoch #15 | Loss: 1.0181810855865479 | Error: 3.384\n",
            "Epoch #16 | Loss: 1.039672613143921 | Error: 3.304\n",
            "Epoch #17 | Loss: 0.9715745449066162 | Error: 3.336\n",
            "Epoch #18 | Loss: 0.8662174344062805 | Error: 3.352\n",
            "Epoch #19 | Loss: 0.928022027015686 | Error: 3.296\n",
            "Epoch #20 | Loss: 0.9394872784614563 | Error: 3.136\n",
            "Time elapsed: 2198.7208 seconds\n"
          ]
        },
        {
          "data": {
            "image/png": "[encoded data removed]",
            "text/plain": [
              "<Figure size 640x480 with 1 Axes>"
            ]
          },
          "metadata": {},
          "output_type": "display_data"
        },
        {
          "data": {
            "image/png": "[encoded data removed]",
            "text/plain": [
              "<Figure size 640x480 with 1 Axes>"
            ]
          },
          "metadata": {},
          "output_type": "display_data"
        }
      ],
      "source": [
        "m_name = \"cnn_test_2\"\n",
        "\n",
        "cnn = ConvNetwork()\n",
        "\n",
        "loss_function = nn.CrossEntropyLoss()\n",
        "optimizer = torch.optim.Adam(cnn.parameters(), lr=LEARNING_RATE)\n",
        "\n",
        "train(cnn, m_name, train_loader, DEVICE, optimizer, loss_function, NUM_EPOCHS)\n",
        "\n",
        "plot_training_curve(m_name)"
      ]
    },
    {
      "cell_type": "markdown",
      "metadata": {
        "id": "r-QxiZbGg9sx"
      },
      "source": [
        "### Evaluation"
      ]
    },
    {
      "cell_type": "code",
      "execution_count": null,
      "metadata": {
        "id": "oCEATx5WhADe"
      },
      "outputs": [],
      "source": [
        "def normalize_label(labels):\n",
        "    \"\"\"\n",
        "    Given a tensor containing 2 possible values, normalize this to 0/1\n",
        "\n",
        "    Args:\n",
        "        labels: a 1D tensor containing two possible scalar values\n",
        "    Returns:\n",
        "        A tensor normalize to 0/1 value\n",
        "    \"\"\"\n",
        "    max_val = torch.max(labels)\n",
        "    min_val = torch.min(labels)\n",
        "    norm_labels = (labels - min_val)/(max_val - min_val)\n",
        "    return norm_labels\n",
        "\n",
        "def evaluate(net, loader, criterion):\n",
        "    \"\"\" Evaluate the network on the validation set.\n",
        "\n",
        "     Args:\n",
        "         net: PyTorch neural network object\n",
        "         loader: PyTorch data loader for the validation set\n",
        "         criterion: The loss function\n",
        "     Returns:\n",
        "         err: A scalar for the avg classification error over the validation set\n",
        "         loss: A scalar for the average loss function over the validation set\n",
        "     \"\"\"\n",
        "    total_loss = 0.0\n",
        "    total_err = 0.0\n",
        "    total_epoch = 0\n",
        "    for i, data in enumerate(loader, 0):\n",
        "        inputs, labels = data\n",
        "        labels = normalize_label(labels)  # Convert labels to 0/1\n",
        "        outputs = net(inputs)\n",
        "        loss = criterion(outputs, labels.float())\n",
        "        corr = (outputs > 0.0).squeeze().long() != labels\n",
        "        total_err += int(corr.sum())\n",
        "        total_loss += loss.item()\n",
        "        total_epoch += len(labels)\n",
        "    err = float(total_err) / total_epoch\n",
        "    loss = float(total_loss) / (i + 1)\n",
        "    return err, loss"
      ]
    }
  ],
  "metadata": {
    "accelerator": "TPU",
    "colab": {
      "collapsed_sections": [
        "YotWu-lGbbUu"
      ],
      "gpuType": "V28",
      "provenance": []
    },
    "kernelspec": {
      "display_name": "Python 3",
      "name": "python3"
    },
    "language_info": {
      "name": "python"
    },
    "widgets": {
      "application/vnd.jupyter.widget-state+json": {
        "012107c2b89542238cabe0876a32e174": {
          "model_module": "@jupyter-widgets/base",
          "model_module_version": "1.2.0",
          "model_name": "LayoutModel",
          "state": {
            "_model_module": "@jupyter-widgets/base",
            "_model_module_version": "1.2.0",
            "_model_name": "LayoutModel",
            "_view_count": null,
            "_view_module": "@jupyter-widgets/base",
            "_view_module_version": "1.2.0",
            "_view_name": "LayoutView",
            "align_content": null,
            "align_items": null,
            "align_self": null,
            "border": null,
            "bottom": null,
            "display": null,
            "flex": null,
            "flex_flow": null,
            "grid_area": null,
            "grid_auto_columns": null,
            "grid_auto_flow": null,
            "grid_auto_rows": null,
            "grid_column": null,
            "grid_gap": null,
            "grid_row": null,
            "grid_template_areas": null,
            "grid_template_columns": null,
            "grid_template_rows": null,
            "height": null,
            "justify_content": null,
            "justify_items": null,
            "left": null,
            "margin": null,
            "max_height": null,
            "max_width": null,
            "min_height": null,
            "min_width": null,
            "object_fit": null,
            "object_position": null,
            "order": null,
            "overflow": null,
            "overflow_x": null,
            "overflow_y": null,
            "padding": null,
            "right": null,
            "top": null,
            "visibility": null,
            "width": null
          }
        },
        "09a3f59df7994544b9c9c1393776dc06": {
          "model_module": "@jupyter-widgets/controls",
          "model_module_version": "1.5.0",
          "model_name": "ProgressStyleModel",
          "state": {
            "_model_module": "@jupyter-widgets/controls",
            "_model_module_version": "1.5.0",
            "_model_name": "ProgressStyleModel",
            "_view_count": null,
            "_view_module": "@jupyter-widgets/base",
            "_view_module_version": "1.2.0",
            "_view_name": "StyleView",
            "bar_color": null,
            "description_width": ""
          }
        },
        "0f3ae975d34d461cbd485bef8807cd8b": {
          "model_module": "@jupyter-widgets/controls",
          "model_module_version": "1.5.0",
          "model_name": "FloatProgressModel",
          "state": {
            "_dom_classes": [],
            "_model_module": "@jupyter-widgets/controls",
            "_model_module_version": "1.5.0",
            "_model_name": "FloatProgressModel",
            "_view_count": null,
            "_view_module": "@jupyter-widgets/controls",
            "_view_module_version": "1.5.0",
            "_view_name": "ProgressView",
            "bar_style": "success",
            "description": "",
            "description_tooltip": null,
            "layout": "IPY_MODEL_f7e7a1607f7e400aa6053de2d0508049",
            "max": 132232,
            "min": 0,
            "orientation": "horizontal",
            "style": "IPY_MODEL_9f347c570478461ab907331beaf431ad",
            "value": 132232
          }
        },
        "1317f900961f4d3eb37f6f7623da5a3a": {
          "model_module": "@jupyter-widgets/controls",
          "model_module_version": "1.5.0",
          "model_name": "HTMLModel",
          "state": {
            "_dom_classes": [],
            "_model_module": "@jupyter-widgets/controls",
            "_model_module_version": "1.5.0",
            "_model_name": "HTMLModel",
            "_view_count": null,
            "_view_module": "@jupyter-widgets/controls",
            "_view_module_version": "1.5.0",
            "_view_name": "HTMLView",
            "description": "",
            "description_tooltip": null,
            "layout": "IPY_MODEL_c42a7d7900ce46bc9a850cc3ef8435b8",
            "placeholder": "​",
            "style": "IPY_MODEL_3f5713ec81064eb7a2ab28f9d95969e7",
            "value": " 3.92k/3.92k [00:00&lt;00:00, 531kB/s]"
          }
        },
        "18d573d1912a407db3084f31c44176e0": {
          "model_module": "@jupyter-widgets/controls",
          "model_module_version": "1.5.0",
          "model_name": "HTMLModel",
          "state": {
            "_dom_classes": [],
            "_model_module": "@jupyter-widgets/controls",
            "_model_module_version": "1.5.0",
            "_model_name": "HTMLModel",
            "_view_count": null,
            "_view_module": "@jupyter-widgets/controls",
            "_view_module_version": "1.5.0",
            "_view_name": "HTMLView",
            "description": "",
            "description_tooltip": null,
            "layout": "IPY_MODEL_afdd1c6fad0d4637a38e77fb95236335",
            "placeholder": "​",
            "style": "IPY_MODEL_1b267cc04ee84504ac4e2a3f111c3417",
            "value": "README.md: 100%"
          }
        },
        "1b267cc04ee84504ac4e2a3f111c3417": {
          "model_module": "@jupyter-widgets/controls",
          "model_module_version": "1.5.0",
          "model_name": "DescriptionStyleModel",
          "state": {
            "_model_module": "@jupyter-widgets/controls",
            "_model_module_version": "1.5.0",
            "_model_name": "DescriptionStyleModel",
            "_view_count": null,
            "_view_module": "@jupyter-widgets/base",
            "_view_module_version": "1.2.0",
            "_view_name": "StyleView",
            "description_width": ""
          }
        },
        "1bb78a2df31d4d93909a820f434f6adc": {
          "model_module": "@jupyter-widgets/base",
          "model_module_version": "1.2.0",
          "model_name": "LayoutModel",
          "state": {
            "_model_module": "@jupyter-widgets/base",
            "_model_module_version": "1.2.0",
            "_model_name": "LayoutModel",
            "_view_count": null,
            "_view_module": "@jupyter-widgets/base",
            "_view_module_version": "1.2.0",
            "_view_name": "LayoutView",
            "align_content": null,
            "align_items": null,
            "align_self": null,
            "border": null,
            "bottom": null,
            "display": null,
            "flex": null,
            "flex_flow": null,
            "grid_area": null,
            "grid_auto_columns": null,
            "grid_auto_flow": null,
            "grid_auto_rows": null,
            "grid_column": null,
            "grid_gap": null,
            "grid_row": null,
            "grid_template_areas": null,
            "grid_template_columns": null,
            "grid_template_rows": null,
            "height": null,
            "justify_content": null,
            "justify_items": null,
            "left": null,
            "margin": null,
            "max_height": null,
            "max_width": null,
            "min_height": null,
            "min_width": null,
            "object_fit": null,
            "object_position": null,
            "order": null,
            "overflow": null,
            "overflow_x": null,
            "overflow_y": null,
            "padding": null,
            "right": null,
            "top": null,
            "visibility": null,
            "width": null
          }
        },
        "2272a8afb66f4df78aa666aff0a1f958": {
          "model_module": "@jupyter-widgets/base",
          "model_module_version": "1.2.0",
          "model_name": "LayoutModel",
          "state": {
            "_model_module": "@jupyter-widgets/base",
            "_model_module_version": "1.2.0",
            "_model_name": "LayoutModel",
            "_view_count": null,
            "_view_module": "@jupyter-widgets/base",
            "_view_module_version": "1.2.0",
            "_view_name": "LayoutView",
            "align_content": null,
            "align_items": null,
            "align_self": null,
            "border": null,
            "bottom": null,
            "display": null,
            "flex": null,
            "flex_flow": null,
            "grid_area": null,
            "grid_auto_columns": null,
            "grid_auto_flow": null,
            "grid_auto_rows": null,
            "grid_column": null,
            "grid_gap": null,
            "grid_row": null,
            "grid_template_areas": null,
            "grid_template_columns": null,
            "grid_template_rows": null,
            "height": null,
            "justify_content": null,
            "justify_items": null,
            "left": null,
            "margin": null,
            "max_height": null,
            "max_width": null,
            "min_height": null,
            "min_width": null,
            "object_fit": null,
            "object_position": null,
            "order": null,
            "overflow": null,
            "overflow_x": null,
            "overflow_y": null,
            "padding": null,
            "right": null,
            "top": null,
            "visibility": null,
            "width": null
          }
        },
        "2a8acefcd113480fa82fc8ce368923ba": {
          "model_module": "@jupyter-widgets/base",
          "model_module_version": "1.2.0",
          "model_name": "LayoutModel",
          "state": {
            "_model_module": "@jupyter-widgets/base",
            "_model_module_version": "1.2.0",
            "_model_name": "LayoutModel",
            "_view_count": null,
            "_view_module": "@jupyter-widgets/base",
            "_view_module_version": "1.2.0",
            "_view_name": "LayoutView",
            "align_content": null,
            "align_items": null,
            "align_self": null,
            "border": null,
            "bottom": null,
            "display": null,
            "flex": null,
            "flex_flow": null,
            "grid_area": null,
            "grid_auto_columns": null,
            "grid_auto_flow": null,
            "grid_auto_rows": null,
            "grid_column": null,
            "grid_gap": null,
            "grid_row": null,
            "grid_template_areas": null,
            "grid_template_columns": null,
            "grid_template_rows": null,
            "height": null,
            "justify_content": null,
            "justify_items": null,
            "left": null,
            "margin": null,
            "max_height": null,
            "max_width": null,
            "min_height": null,
            "min_width": null,
            "object_fit": null,
            "object_position": null,
            "order": null,
            "overflow": null,
            "overflow_x": null,
            "overflow_y": null,
            "padding": null,
            "right": null,
            "top": null,
            "visibility": null,
            "width": null
          }
        },
        "3144b1b2216c4ab0bfb0107a0a517908": {
          "model_module": "@jupyter-widgets/controls",
          "model_module_version": "1.5.0",
          "model_name": "HBoxModel",
          "state": {
            "_dom_classes": [],
            "_model_module": "@jupyter-widgets/controls",
            "_model_module_version": "1.5.0",
            "_model_name": "HBoxModel",
            "_view_count": null,
            "_view_module": "@jupyter-widgets/controls",
            "_view_module_version": "1.5.0",
            "_view_name": "HBoxView",
            "box_style": "",
            "children": [
              "IPY_MODEL_3ae05652994e407085bc91b2acaf751c",
              "IPY_MODEL_0f3ae975d34d461cbd485bef8807cd8b",
              "IPY_MODEL_c65107cb082f48ec8353f1616b660a3e"
            ],
            "layout": "IPY_MODEL_a4dda969cdab43cdbd47ad6ef97a5185"
          }
        },
        "350ab7a4809243f8b90c4abe5b132066": {
          "model_module": "@jupyter-widgets/controls",
          "model_module_version": "1.5.0",
          "model_name": "FloatProgressModel",
          "state": {
            "_dom_classes": [],
            "_model_module": "@jupyter-widgets/controls",
            "_model_module_version": "1.5.0",
            "_model_name": "FloatProgressModel",
            "_view_count": null,
            "_view_module": "@jupyter-widgets/controls",
            "_view_module_version": "1.5.0",
            "_view_name": "ProgressView",
            "bar_style": "success",
            "description": "",
            "description_tooltip": null,
            "layout": "IPY_MODEL_7f60fabc8149427984b99b9a1abf0a3e",
            "max": 3915,
            "min": 0,
            "orientation": "horizontal",
            "style": "IPY_MODEL_09a3f59df7994544b9c9c1393776dc06",
            "value": 3915
          }
        },
        "371db08d6a2746d182839d00e3be97c4": {
          "model_module": "@jupyter-widgets/controls",
          "model_module_version": "1.5.0",
          "model_name": "HTMLModel",
          "state": {
            "_dom_classes": [],
            "_model_module": "@jupyter-widgets/controls",
            "_model_module_version": "1.5.0",
            "_model_name": "HTMLModel",
            "_view_count": null,
            "_view_module": "@jupyter-widgets/controls",
            "_view_module_version": "1.5.0",
            "_view_name": "HTMLView",
            "description": "",
            "description_tooltip": null,
            "layout": "IPY_MODEL_1bb78a2df31d4d93909a820f434f6adc",
            "placeholder": "​",
            "style": "IPY_MODEL_8e93d26e2df648e3aef13a64dc13ec24",
            "value": "common_voice_17_0.py: 100%"
          }
        },
        "38df2f0bf5c84d64b1576e25d5576763": {
          "model_module": "@jupyter-widgets/base",
          "model_module_version": "1.2.0",
          "model_name": "LayoutModel",
          "state": {
            "_model_module": "@jupyter-widgets/base",
            "_model_module_version": "1.2.0",
            "_model_name": "LayoutModel",
            "_view_count": null,
            "_view_module": "@jupyter-widgets/base",
            "_view_module_version": "1.2.0",
            "_view_name": "LayoutView",
            "align_content": null,
            "align_items": null,
            "align_self": null,
            "border": null,
            "bottom": null,
            "display": null,
            "flex": null,
            "flex_flow": null,
            "grid_area": null,
            "grid_auto_columns": null,
            "grid_auto_flow": null,
            "grid_auto_rows": null,
            "grid_column": null,
            "grid_gap": null,
            "grid_row": null,
            "grid_template_areas": null,
            "grid_template_columns": null,
            "grid_template_rows": null,
            "height": null,
            "justify_content": null,
            "justify_items": null,
            "left": null,
            "margin": null,
            "max_height": null,
            "max_width": null,
            "min_height": null,
            "min_width": null,
            "object_fit": null,
            "object_position": null,
            "order": null,
            "overflow": null,
            "overflow_x": null,
            "overflow_y": null,
            "padding": null,
            "right": null,
            "top": null,
            "visibility": null,
            "width": null
          }
        },
        "3a28f7fa891d412f9c627c6058d568d1": {
          "model_module": "@jupyter-widgets/controls",
          "model_module_version": "1.5.0",
          "model_name": "HTMLModel",
          "state": {
            "_dom_classes": [],
            "_model_module": "@jupyter-widgets/controls",
            "_model_module_version": "1.5.0",
            "_model_name": "HTMLModel",
            "_view_count": null,
            "_view_module": "@jupyter-widgets/controls",
            "_view_module_version": "1.5.0",
            "_view_name": "HTMLView",
            "description": "",
            "description_tooltip": null,
            "layout": "IPY_MODEL_5481efc7d89f466a8fc8dfe450314228",
            "placeholder": "​",
            "style": "IPY_MODEL_b04b124030bd41b0b9ac091d730afc5a",
            "value": "languages.py: 100%"
          }
        },
        "3ae05652994e407085bc91b2acaf751c": {
          "model_module": "@jupyter-widgets/controls",
          "model_module_version": "1.5.0",
          "model_name": "HTMLModel",
          "state": {
            "_dom_classes": [],
            "_model_module": "@jupyter-widgets/controls",
            "_model_module_version": "1.5.0",
            "_model_name": "HTMLModel",
            "_view_count": null,
            "_view_module": "@jupyter-widgets/controls",
            "_view_module_version": "1.5.0",
            "_view_name": "HTMLView",
            "description": "",
            "description_tooltip": null,
            "layout": "IPY_MODEL_8972544788134421aef8e14a041afcc2",
            "placeholder": "​",
            "style": "IPY_MODEL_8048c70a14534c5aac498d5105456d32",
            "value": "release_stats.py: 100%"
          }
        },
        "3f5713ec81064eb7a2ab28f9d95969e7": {
          "model_module": "@jupyter-widgets/controls",
          "model_module_version": "1.5.0",
          "model_name": "DescriptionStyleModel",
          "state": {
            "_model_module": "@jupyter-widgets/controls",
            "_model_module_version": "1.5.0",
            "_model_name": "DescriptionStyleModel",
            "_view_count": null,
            "_view_module": "@jupyter-widgets/base",
            "_view_module_version": "1.2.0",
            "_view_name": "StyleView",
            "description_width": ""
          }
        },
        "4804691b2d974d709052a340d8a3011c": {
          "model_module": "@jupyter-widgets/controls",
          "model_module_version": "1.5.0",
          "model_name": "DescriptionStyleModel",
          "state": {
            "_model_module": "@jupyter-widgets/controls",
            "_model_module_version": "1.5.0",
            "_model_name": "DescriptionStyleModel",
            "_view_count": null,
            "_view_module": "@jupyter-widgets/base",
            "_view_module_version": "1.2.0",
            "_view_name": "StyleView",
            "description_width": ""
          }
        },
        "503e96b0a5714ad5ad8dad0cc5364a98": {
          "model_module": "@jupyter-widgets/controls",
          "model_module_version": "1.5.0",
          "model_name": "FloatProgressModel",
          "state": {
            "_dom_classes": [],
            "_model_module": "@jupyter-widgets/controls",
            "_model_module_version": "1.5.0",
            "_model_name": "FloatProgressModel",
            "_view_count": null,
            "_view_module": "@jupyter-widgets/controls",
            "_view_module_version": "1.5.0",
            "_view_name": "ProgressView",
            "bar_style": "success",
            "description": "",
            "description_tooltip": null,
            "layout": "IPY_MODEL_58923f40bd254e5b8b4fa16f57078094",
            "max": 8194,
            "min": 0,
            "orientation": "horizontal",
            "style": "IPY_MODEL_a6e90d01e2464500bd859736514b44c9",
            "value": 8194
          }
        },
        "5481efc7d89f466a8fc8dfe450314228": {
          "model_module": "@jupyter-widgets/base",
          "model_module_version": "1.2.0",
          "model_name": "LayoutModel",
          "state": {
            "_model_module": "@jupyter-widgets/base",
            "_model_module_version": "1.2.0",
            "_model_name": "LayoutModel",
            "_view_count": null,
            "_view_module": "@jupyter-widgets/base",
            "_view_module_version": "1.2.0",
            "_view_name": "LayoutView",
            "align_content": null,
            "align_items": null,
            "align_self": null,
            "border": null,
            "bottom": null,
            "display": null,
            "flex": null,
            "flex_flow": null,
            "grid_area": null,
            "grid_auto_columns": null,
            "grid_auto_flow": null,
            "grid_auto_rows": null,
            "grid_column": null,
            "grid_gap": null,
            "grid_row": null,
            "grid_template_areas": null,
            "grid_template_columns": null,
            "grid_template_rows": null,
            "height": null,
            "justify_content": null,
            "justify_items": null,
            "left": null,
            "margin": null,
            "max_height": null,
            "max_width": null,
            "min_height": null,
            "min_width": null,
            "object_fit": null,
            "object_position": null,
            "order": null,
            "overflow": null,
            "overflow_x": null,
            "overflow_y": null,
            "padding": null,
            "right": null,
            "top": null,
            "visibility": null,
            "width": null
          }
        },
        "58923f40bd254e5b8b4fa16f57078094": {
          "model_module": "@jupyter-widgets/base",
          "model_module_version": "1.2.0",
          "model_name": "LayoutModel",
          "state": {
            "_model_module": "@jupyter-widgets/base",
            "_model_module_version": "1.2.0",
            "_model_name": "LayoutModel",
            "_view_count": null,
            "_view_module": "@jupyter-widgets/base",
            "_view_module_version": "1.2.0",
            "_view_name": "LayoutView",
            "align_content": null,
            "align_items": null,
            "align_self": null,
            "border": null,
            "bottom": null,
            "display": null,
            "flex": null,
            "flex_flow": null,
            "grid_area": null,
            "grid_auto_columns": null,
            "grid_auto_flow": null,
            "grid_auto_rows": null,
            "grid_column": null,
            "grid_gap": null,
            "grid_row": null,
            "grid_template_areas": null,
            "grid_template_columns": null,
            "grid_template_rows": null,
            "height": null,
            "justify_content": null,
            "justify_items": null,
            "left": null,
            "margin": null,
            "max_height": null,
            "max_width": null,
            "min_height": null,
            "min_width": null,
            "object_fit": null,
            "object_position": null,
            "order": null,
            "overflow": null,
            "overflow_x": null,
            "overflow_y": null,
            "padding": null,
            "right": null,
            "top": null,
            "visibility": null,
            "width": null
          }
        },
        "7e5caf47279f45ab8a4ef1bb9ae3ac73": {
          "model_module": "@jupyter-widgets/base",
          "model_module_version": "1.2.0",
          "model_name": "LayoutModel",
          "state": {
            "_model_module": "@jupyter-widgets/base",
            "_model_module_version": "1.2.0",
            "_model_name": "LayoutModel",
            "_view_count": null,
            "_view_module": "@jupyter-widgets/base",
            "_view_module_version": "1.2.0",
            "_view_name": "LayoutView",
            "align_content": null,
            "align_items": null,
            "align_self": null,
            "border": null,
            "bottom": null,
            "display": null,
            "flex": null,
            "flex_flow": null,
            "grid_area": null,
            "grid_auto_columns": null,
            "grid_auto_flow": null,
            "grid_auto_rows": null,
            "grid_column": null,
            "grid_gap": null,
            "grid_row": null,
            "grid_template_areas": null,
            "grid_template_columns": null,
            "grid_template_rows": null,
            "height": null,
            "justify_content": null,
            "justify_items": null,
            "left": null,
            "margin": null,
            "max_height": null,
            "max_width": null,
            "min_height": null,
            "min_width": null,
            "object_fit": null,
            "object_position": null,
            "order": null,
            "overflow": null,
            "overflow_x": null,
            "overflow_y": null,
            "padding": null,
            "right": null,
            "top": null,
            "visibility": null,
            "width": null
          }
        },
        "7f60fabc8149427984b99b9a1abf0a3e": {
          "model_module": "@jupyter-widgets/base",
          "model_module_version": "1.2.0",
          "model_name": "LayoutModel",
          "state": {
            "_model_module": "@jupyter-widgets/base",
            "_model_module_version": "1.2.0",
            "_model_name": "LayoutModel",
            "_view_count": null,
            "_view_module": "@jupyter-widgets/base",
            "_view_module_version": "1.2.0",
            "_view_name": "LayoutView",
            "align_content": null,
            "align_items": null,
            "align_self": null,
            "border": null,
            "bottom": null,
            "display": null,
            "flex": null,
            "flex_flow": null,
            "grid_area": null,
            "grid_auto_columns": null,
            "grid_auto_flow": null,
            "grid_auto_rows": null,
            "grid_column": null,
            "grid_gap": null,
            "grid_row": null,
            "grid_template_areas": null,
            "grid_template_columns": null,
            "grid_template_rows": null,
            "height": null,
            "justify_content": null,
            "justify_items": null,
            "left": null,
            "margin": null,
            "max_height": null,
            "max_width": null,
            "min_height": null,
            "min_width": null,
            "object_fit": null,
            "object_position": null,
            "order": null,
            "overflow": null,
            "overflow_x": null,
            "overflow_y": null,
            "padding": null,
            "right": null,
            "top": null,
            "visibility": null,
            "width": null
          }
        },
        "8048c70a14534c5aac498d5105456d32": {
          "model_module": "@jupyter-widgets/controls",
          "model_module_version": "1.5.0",
          "model_name": "DescriptionStyleModel",
          "state": {
            "_model_module": "@jupyter-widgets/controls",
            "_model_module_version": "1.5.0",
            "_model_name": "DescriptionStyleModel",
            "_view_count": null,
            "_view_module": "@jupyter-widgets/base",
            "_view_module_version": "1.2.0",
            "_view_name": "StyleView",
            "description_width": ""
          }
        },
        "8972544788134421aef8e14a041afcc2": {
          "model_module": "@jupyter-widgets/base",
          "model_module_version": "1.2.0",
          "model_name": "LayoutModel",
          "state": {
            "_model_module": "@jupyter-widgets/base",
            "_model_module_version": "1.2.0",
            "_model_name": "LayoutModel",
            "_view_count": null,
            "_view_module": "@jupyter-widgets/base",
            "_view_module_version": "1.2.0",
            "_view_name": "LayoutView",
            "align_content": null,
            "align_items": null,
            "align_self": null,
            "border": null,
            "bottom": null,
            "display": null,
            "flex": null,
            "flex_flow": null,
            "grid_area": null,
            "grid_auto_columns": null,
            "grid_auto_flow": null,
            "grid_auto_rows": null,
            "grid_column": null,
            "grid_gap": null,
            "grid_row": null,
            "grid_template_areas": null,
            "grid_template_columns": null,
            "grid_template_rows": null,
            "height": null,
            "justify_content": null,
            "justify_items": null,
            "left": null,
            "margin": null,
            "max_height": null,
            "max_width": null,
            "min_height": null,
            "min_width": null,
            "object_fit": null,
            "object_position": null,
            "order": null,
            "overflow": null,
            "overflow_x": null,
            "overflow_y": null,
            "padding": null,
            "right": null,
            "top": null,
            "visibility": null,
            "width": null
          }
        },
        "89b3ec71c1564910a6e67c8e73a8abd2": {
          "model_module": "@jupyter-widgets/controls",
          "model_module_version": "1.5.0",
          "model_name": "DescriptionStyleModel",
          "state": {
            "_model_module": "@jupyter-widgets/controls",
            "_model_module_version": "1.5.0",
            "_model_name": "DescriptionStyleModel",
            "_view_count": null,
            "_view_module": "@jupyter-widgets/base",
            "_view_module_version": "1.2.0",
            "_view_name": "StyleView",
            "description_width": ""
          }
        },
        "8e7912bb063c4aa49b59e3b9999af3fb": {
          "model_module": "@jupyter-widgets/controls",
          "model_module_version": "1.5.0",
          "model_name": "HBoxModel",
          "state": {
            "_dom_classes": [],
            "_model_module": "@jupyter-widgets/controls",
            "_model_module_version": "1.5.0",
            "_model_name": "HBoxModel",
            "_view_count": null,
            "_view_module": "@jupyter-widgets/controls",
            "_view_module_version": "1.5.0",
            "_view_name": "HBoxView",
            "box_style": "",
            "children": [
              "IPY_MODEL_371db08d6a2746d182839d00e3be97c4",
              "IPY_MODEL_503e96b0a5714ad5ad8dad0cc5364a98",
              "IPY_MODEL_ac54d69b336a4d518cc1429b8d8dac9f"
            ],
            "layout": "IPY_MODEL_2a8acefcd113480fa82fc8ce368923ba"
          }
        },
        "8e93d26e2df648e3aef13a64dc13ec24": {
          "model_module": "@jupyter-widgets/controls",
          "model_module_version": "1.5.0",
          "model_name": "DescriptionStyleModel",
          "state": {
            "_model_module": "@jupyter-widgets/controls",
            "_model_module_version": "1.5.0",
            "_model_name": "DescriptionStyleModel",
            "_view_count": null,
            "_view_module": "@jupyter-widgets/base",
            "_view_module_version": "1.2.0",
            "_view_name": "StyleView",
            "description_width": ""
          }
        },
        "9f33b5c015ba4dd793bbfceaaf98633d": {
          "model_module": "@jupyter-widgets/base",
          "model_module_version": "1.2.0",
          "model_name": "LayoutModel",
          "state": {
            "_model_module": "@jupyter-widgets/base",
            "_model_module_version": "1.2.0",
            "_model_name": "LayoutModel",
            "_view_count": null,
            "_view_module": "@jupyter-widgets/base",
            "_view_module_version": "1.2.0",
            "_view_name": "LayoutView",
            "align_content": null,
            "align_items": null,
            "align_self": null,
            "border": null,
            "bottom": null,
            "display": null,
            "flex": null,
            "flex_flow": null,
            "grid_area": null,
            "grid_auto_columns": null,
            "grid_auto_flow": null,
            "grid_auto_rows": null,
            "grid_column": null,
            "grid_gap": null,
            "grid_row": null,
            "grid_template_areas": null,
            "grid_template_columns": null,
            "grid_template_rows": null,
            "height": null,
            "justify_content": null,
            "justify_items": null,
            "left": null,
            "margin": null,
            "max_height": null,
            "max_width": null,
            "min_height": null,
            "min_width": null,
            "object_fit": null,
            "object_position": null,
            "order": null,
            "overflow": null,
            "overflow_x": null,
            "overflow_y": null,
            "padding": null,
            "right": null,
            "top": null,
            "visibility": null,
            "width": null
          }
        },
        "9f347c570478461ab907331beaf431ad": {
          "model_module": "@jupyter-widgets/controls",
          "model_module_version": "1.5.0",
          "model_name": "ProgressStyleModel",
          "state": {
            "_model_module": "@jupyter-widgets/controls",
            "_model_module_version": "1.5.0",
            "_model_name": "ProgressStyleModel",
            "_view_count": null,
            "_view_module": "@jupyter-widgets/base",
            "_view_module_version": "1.2.0",
            "_view_name": "StyleView",
            "bar_color": null,
            "description_width": ""
          }
        },
        "a2f94beceb1745e0b1df171addec8f25": {
          "model_module": "@jupyter-widgets/controls",
          "model_module_version": "1.5.0",
          "model_name": "HTMLModel",
          "state": {
            "_dom_classes": [],
            "_model_module": "@jupyter-widgets/controls",
            "_model_module_version": "1.5.0",
            "_model_name": "HTMLModel",
            "_view_count": null,
            "_view_module": "@jupyter-widgets/controls",
            "_view_module_version": "1.5.0",
            "_view_name": "HTMLView",
            "description": "",
            "description_tooltip": null,
            "layout": "IPY_MODEL_38df2f0bf5c84d64b1576e25d5576763",
            "placeholder": "​",
            "style": "IPY_MODEL_89b3ec71c1564910a6e67c8e73a8abd2",
            "value": " 12.7k/12.7k [00:00&lt;00:00, 1.55MB/s]"
          }
        },
        "a4dda969cdab43cdbd47ad6ef97a5185": {
          "model_module": "@jupyter-widgets/base",
          "model_module_version": "1.2.0",
          "model_name": "LayoutModel",
          "state": {
            "_model_module": "@jupyter-widgets/base",
            "_model_module_version": "1.2.0",
            "_model_name": "LayoutModel",
            "_view_count": null,
            "_view_module": "@jupyter-widgets/base",
            "_view_module_version": "1.2.0",
            "_view_name": "LayoutView",
            "align_content": null,
            "align_items": null,
            "align_self": null,
            "border": null,
            "bottom": null,
            "display": null,
            "flex": null,
            "flex_flow": null,
            "grid_area": null,
            "grid_auto_columns": null,
            "grid_auto_flow": null,
            "grid_auto_rows": null,
            "grid_column": null,
            "grid_gap": null,
            "grid_row": null,
            "grid_template_areas": null,
            "grid_template_columns": null,
            "grid_template_rows": null,
            "height": null,
            "justify_content": null,
            "justify_items": null,
            "left": null,
            "margin": null,
            "max_height": null,
            "max_width": null,
            "min_height": null,
            "min_width": null,
            "object_fit": null,
            "object_position": null,
            "order": null,
            "overflow": null,
            "overflow_x": null,
            "overflow_y": null,
            "padding": null,
            "right": null,
            "top": null,
            "visibility": null,
            "width": null
          }
        },
        "a6e90d01e2464500bd859736514b44c9": {
          "model_module": "@jupyter-widgets/controls",
          "model_module_version": "1.5.0",
          "model_name": "ProgressStyleModel",
          "state": {
            "_model_module": "@jupyter-widgets/controls",
            "_model_module_version": "1.5.0",
            "_model_name": "ProgressStyleModel",
            "_view_count": null,
            "_view_module": "@jupyter-widgets/base",
            "_view_module_version": "1.2.0",
            "_view_name": "StyleView",
            "bar_color": null,
            "description_width": ""
          }
        },
        "a76352a586fb4fcebacf75aef2944845": {
          "model_module": "@jupyter-widgets/controls",
          "model_module_version": "1.5.0",
          "model_name": "DescriptionStyleModel",
          "state": {
            "_model_module": "@jupyter-widgets/controls",
            "_model_module_version": "1.5.0",
            "_model_name": "DescriptionStyleModel",
            "_view_count": null,
            "_view_module": "@jupyter-widgets/base",
            "_view_module_version": "1.2.0",
            "_view_name": "StyleView",
            "description_width": ""
          }
        },
        "ac54d69b336a4d518cc1429b8d8dac9f": {
          "model_module": "@jupyter-widgets/controls",
          "model_module_version": "1.5.0",
          "model_name": "HTMLModel",
          "state": {
            "_dom_classes": [],
            "_model_module": "@jupyter-widgets/controls",
            "_model_module_version": "1.5.0",
            "_model_name": "HTMLModel",
            "_view_count": null,
            "_view_module": "@jupyter-widgets/controls",
            "_view_module_version": "1.5.0",
            "_view_name": "HTMLView",
            "description": "",
            "description_tooltip": null,
            "layout": "IPY_MODEL_2272a8afb66f4df78aa666aff0a1f958",
            "placeholder": "​",
            "style": "IPY_MODEL_4804691b2d974d709052a340d8a3011c",
            "value": " 8.19k/8.19k [00:00&lt;00:00, 1.08MB/s]"
          }
        },
        "afdd1c6fad0d4637a38e77fb95236335": {
          "model_module": "@jupyter-widgets/base",
          "model_module_version": "1.2.0",
          "model_name": "LayoutModel",
          "state": {
            "_model_module": "@jupyter-widgets/base",
            "_model_module_version": "1.2.0",
            "_model_name": "LayoutModel",
            "_view_count": null,
            "_view_module": "@jupyter-widgets/base",
            "_view_module_version": "1.2.0",
            "_view_name": "LayoutView",
            "align_content": null,
            "align_items": null,
            "align_self": null,
            "border": null,
            "bottom": null,
            "display": null,
            "flex": null,
            "flex_flow": null,
            "grid_area": null,
            "grid_auto_columns": null,
            "grid_auto_flow": null,
            "grid_auto_rows": null,
            "grid_column": null,
            "grid_gap": null,
            "grid_row": null,
            "grid_template_areas": null,
            "grid_template_columns": null,
            "grid_template_rows": null,
            "height": null,
            "justify_content": null,
            "justify_items": null,
            "left": null,
            "margin": null,
            "max_height": null,
            "max_width": null,
            "min_height": null,
            "min_width": null,
            "object_fit": null,
            "object_position": null,
            "order": null,
            "overflow": null,
            "overflow_x": null,
            "overflow_y": null,
            "padding": null,
            "right": null,
            "top": null,
            "visibility": null,
            "width": null
          }
        },
        "b04b124030bd41b0b9ac091d730afc5a": {
          "model_module": "@jupyter-widgets/controls",
          "model_module_version": "1.5.0",
          "model_name": "DescriptionStyleModel",
          "state": {
            "_model_module": "@jupyter-widgets/controls",
            "_model_module_version": "1.5.0",
            "_model_name": "DescriptionStyleModel",
            "_view_count": null,
            "_view_module": "@jupyter-widgets/base",
            "_view_module_version": "1.2.0",
            "_view_name": "StyleView",
            "description_width": ""
          }
        },
        "b7f180a2c41940538ac642cec11f4e5a": {
          "model_module": "@jupyter-widgets/controls",
          "model_module_version": "1.5.0",
          "model_name": "HBoxModel",
          "state": {
            "_dom_classes": [],
            "_model_module": "@jupyter-widgets/controls",
            "_model_module_version": "1.5.0",
            "_model_name": "HBoxModel",
            "_view_count": null,
            "_view_module": "@jupyter-widgets/controls",
            "_view_module_version": "1.5.0",
            "_view_name": "HBoxView",
            "box_style": "",
            "children": [
              "IPY_MODEL_18d573d1912a407db3084f31c44176e0",
              "IPY_MODEL_cd34af32c44b41dd97672eb251195d2a",
              "IPY_MODEL_a2f94beceb1745e0b1df171addec8f25"
            ],
            "layout": "IPY_MODEL_012107c2b89542238cabe0876a32e174"
          }
        },
        "c42a7d7900ce46bc9a850cc3ef8435b8": {
          "model_module": "@jupyter-widgets/base",
          "model_module_version": "1.2.0",
          "model_name": "LayoutModel",
          "state": {
            "_model_module": "@jupyter-widgets/base",
            "_model_module_version": "1.2.0",
            "_model_name": "LayoutModel",
            "_view_count": null,
            "_view_module": "@jupyter-widgets/base",
            "_view_module_version": "1.2.0",
            "_view_name": "LayoutView",
            "align_content": null,
            "align_items": null,
            "align_self": null,
            "border": null,
            "bottom": null,
            "display": null,
            "flex": null,
            "flex_flow": null,
            "grid_area": null,
            "grid_auto_columns": null,
            "grid_auto_flow": null,
            "grid_auto_rows": null,
            "grid_column": null,
            "grid_gap": null,
            "grid_row": null,
            "grid_template_areas": null,
            "grid_template_columns": null,
            "grid_template_rows": null,
            "height": null,
            "justify_content": null,
            "justify_items": null,
            "left": null,
            "margin": null,
            "max_height": null,
            "max_width": null,
            "min_height": null,
            "min_width": null,
            "object_fit": null,
            "object_position": null,
            "order": null,
            "overflow": null,
            "overflow_x": null,
            "overflow_y": null,
            "padding": null,
            "right": null,
            "top": null,
            "visibility": null,
            "width": null
          }
        },
        "c65107cb082f48ec8353f1616b660a3e": {
          "model_module": "@jupyter-widgets/controls",
          "model_module_version": "1.5.0",
          "model_name": "HTMLModel",
          "state": {
            "_dom_classes": [],
            "_model_module": "@jupyter-widgets/controls",
            "_model_module_version": "1.5.0",
            "_model_name": "HTMLModel",
            "_view_count": null,
            "_view_module": "@jupyter-widgets/controls",
            "_view_module_version": "1.5.0",
            "_view_name": "HTMLView",
            "description": "",
            "description_tooltip": null,
            "layout": "IPY_MODEL_9f33b5c015ba4dd793bbfceaaf98633d",
            "placeholder": "​",
            "style": "IPY_MODEL_a76352a586fb4fcebacf75aef2944845",
            "value": " 132k/132k [00:00&lt;00:00, 16.6MB/s]"
          }
        },
        "cd34af32c44b41dd97672eb251195d2a": {
          "model_module": "@jupyter-widgets/controls",
          "model_module_version": "1.5.0",
          "model_name": "FloatProgressModel",
          "state": {
            "_dom_classes": [],
            "_model_module": "@jupyter-widgets/controls",
            "_model_module_version": "1.5.0",
            "_model_name": "FloatProgressModel",
            "_view_count": null,
            "_view_module": "@jupyter-widgets/controls",
            "_view_module_version": "1.5.0",
            "_view_name": "ProgressView",
            "bar_style": "success",
            "description": "",
            "description_tooltip": null,
            "layout": "IPY_MODEL_7e5caf47279f45ab8a4ef1bb9ae3ac73",
            "max": 12719,
            "min": 0,
            "orientation": "horizontal",
            "style": "IPY_MODEL_d6e805098bc748789fde86a2594c602e",
            "value": 12719
          }
        },
        "d6e805098bc748789fde86a2594c602e": {
          "model_module": "@jupyter-widgets/controls",
          "model_module_version": "1.5.0",
          "model_name": "ProgressStyleModel",
          "state": {
            "_model_module": "@jupyter-widgets/controls",
            "_model_module_version": "1.5.0",
            "_model_name": "ProgressStyleModel",
            "_view_count": null,
            "_view_module": "@jupyter-widgets/base",
            "_view_module_version": "1.2.0",
            "_view_name": "StyleView",
            "bar_color": null,
            "description_width": ""
          }
        },
        "e2aaa648631b4822aafb970274b8a8c3": {
          "model_module": "@jupyter-widgets/base",
          "model_module_version": "1.2.0",
          "model_name": "LayoutModel",
          "state": {
            "_model_module": "@jupyter-widgets/base",
            "_model_module_version": "1.2.0",
            "_model_name": "LayoutModel",
            "_view_count": null,
            "_view_module": "@jupyter-widgets/base",
            "_view_module_version": "1.2.0",
            "_view_name": "LayoutView",
            "align_content": null,
            "align_items": null,
            "align_self": null,
            "border": null,
            "bottom": null,
            "display": null,
            "flex": null,
            "flex_flow": null,
            "grid_area": null,
            "grid_auto_columns": null,
            "grid_auto_flow": null,
            "grid_auto_rows": null,
            "grid_column": null,
            "grid_gap": null,
            "grid_row": null,
            "grid_template_areas": null,
            "grid_template_columns": null,
            "grid_template_rows": null,
            "height": null,
            "justify_content": null,
            "justify_items": null,
            "left": null,
            "margin": null,
            "max_height": null,
            "max_width": null,
            "min_height": null,
            "min_width": null,
            "object_fit": null,
            "object_position": null,
            "order": null,
            "overflow": null,
            "overflow_x": null,
            "overflow_y": null,
            "padding": null,
            "right": null,
            "top": null,
            "visibility": null,
            "width": null
          }
        },
        "f7e7a1607f7e400aa6053de2d0508049": {
          "model_module": "@jupyter-widgets/base",
          "model_module_version": "1.2.0",
          "model_name": "LayoutModel",
          "state": {
            "_model_module": "@jupyter-widgets/base",
            "_model_module_version": "1.2.0",
            "_model_name": "LayoutModel",
            "_view_count": null,
            "_view_module": "@jupyter-widgets/base",
            "_view_module_version": "1.2.0",
            "_view_name": "LayoutView",
            "align_content": null,
            "align_items": null,
            "align_self": null,
            "border": null,
            "bottom": null,
            "display": null,
            "flex": null,
            "flex_flow": null,
            "grid_area": null,
            "grid_auto_columns": null,
            "grid_auto_flow": null,
            "grid_auto_rows": null,
            "grid_column": null,
            "grid_gap": null,
            "grid_row": null,
            "grid_template_areas": null,
            "grid_template_columns": null,
            "grid_template_rows": null,
            "height": null,
            "justify_content": null,
            "justify_items": null,
            "left": null,
            "margin": null,
            "max_height": null,
            "max_width": null,
            "min_height": null,
            "min_width": null,
            "object_fit": null,
            "object_position": null,
            "order": null,
            "overflow": null,
            "overflow_x": null,
            "overflow_y": null,
            "padding": null,
            "right": null,
            "top": null,
            "visibility": null,
            "width": null
          }
        },
        "fb6add17eccb48289227485ff8f7d2b0": {
          "model_module": "@jupyter-widgets/controls",
          "model_module_version": "1.5.0",
          "model_name": "HBoxModel",
          "state": {
            "_dom_classes": [],
            "_model_module": "@jupyter-widgets/controls",
            "_model_module_version": "1.5.0",
            "_model_name": "HBoxModel",
            "_view_count": null,
            "_view_module": "@jupyter-widgets/controls",
            "_view_module_version": "1.5.0",
            "_view_name": "HBoxView",
            "box_style": "",
            "children": [
              "IPY_MODEL_3a28f7fa891d412f9c627c6058d568d1",
              "IPY_MODEL_350ab7a4809243f8b90c4abe5b132066",
              "IPY_MODEL_1317f900961f4d3eb37f6f7623da5a3a"
            ],
            "layout": "IPY_MODEL_e2aaa648631b4822aafb970274b8a8c3"
          }
        }
      }
    }
  },
  "nbformat": 4,
  "nbformat_minor": 0
}
